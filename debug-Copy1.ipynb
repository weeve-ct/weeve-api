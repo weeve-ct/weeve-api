{
 "cells": [
  {
   "cell_type": "code",
   "execution_count": null,
   "metadata": {},
   "outputs": [],
   "source": [
    "import requests\n",
    "import random\n",
    "import string\n",
    "import time\n",
    "import os\n",
    "import re\n",
    "import json\n",
    "from urllib.parse import urljoin\n",
    "import server\n",
    "from server.models import *"
   ]
  },
  {
   "cell_type": "code",
   "execution_count": null,
   "metadata": {},
   "outputs": [],
   "source": [
    "SERVER = 'http://weeve-api.cornell.tech'\n",
    "get_url = lambda x: urljoin(SERVER,x)"
   ]
  },
  {
   "cell_type": "code",
   "execution_count": null,
   "metadata": {},
   "outputs": [],
   "source": [
    "user_cred = {\n",
    "    'username': 'export@cornell.edu',\n",
    "    'password': 'password'\n",
    "}"
   ]
  },
  {
   "cell_type": "code",
   "execution_count": null,
   "metadata": {},
   "outputs": [],
   "source": [
    "r = requests.post(get_url('auth/signup'), json=user_cred)\n",
    "if not r.status_code in range(200,300): print(r.text)"
   ]
  },
  {
   "cell_type": "code",
   "execution_count": null,
   "metadata": {},
   "outputs": [],
   "source": [
    "r = requests.post(get_url('auth/login'), json=user_cred)\n",
    "token = r.json()['token']\n",
    "auth_headers = {'authorization': 'bearer {}'.format(token)}"
   ]
  },
  {
   "cell_type": "markdown",
   "metadata": {},
   "source": [
    "### get all post ids"
   ]
  },
  {
   "cell_type": "code",
   "execution_count": 7,
   "metadata": {},
   "outputs": [],
   "source": [
    "import json\n",
    "import os\n",
    "import server\n",
    "from server.models import *\n",
    "from server.controller.routes.post import encode_body, decode_body\n",
    "\n",
    "os.environ['FLASK_CONFIG'] = './local/server-config-dev.yaml'\n",
    "app = server.create_app()\n",
    "# db = server.models.db\n",
    "\n",
    "output = []\n",
    "\n",
    "with app.app_context():\n",
    "    posts = db.session.query(Post).all()\n",
    "    \n",
    "    for post in posts:\n",
    "        \n",
    "        output.append({\n",
    "            'body': decode_body(post.body),\n",
    "            'explicit_tags': [pt.tag.tag for pt in post.post_tags],\n",
    "            'title': post.title,\n",
    "        })\n",
    "        \n",
    "with open('./sample-data/nuga.json','w') as f:\n",
    "    f.write(json.dumps(output))"
   ]
  },
  {
   "cell_type": "markdown",
   "metadata": {},
   "source": [
    "### get post"
   ]
  },
  {
   "cell_type": "code",
   "execution_count": null,
   "metadata": {},
   "outputs": [],
   "source": [
    "r = requests.get(get_url('post/27'), headers=auth_headers)\n",
    "if not r.status_code in range(200,300): print(r.text)\n",
    "\n",
    "payload = r.json()['post']\n",
    "body = payload['body']\n",
    "title = payload['title']\n",
    "explicit_tags = payload['explicit_tags']\n",
    "post_id = time.time()\n",
    "\n",
    "for k in sorted(payload.keys()):\n",
    "    print(k)"
   ]
  },
  {
   "cell_type": "code",
   "execution_count": null,
   "metadata": {},
   "outputs": [],
   "source": [
    "payload['explicit_tags']"
   ]
  },
  {
   "cell_type": "code",
   "execution_count": null,
   "metadata": {},
   "outputs": [],
   "source": [
    "explicit_tags"
   ]
  },
  {
   "cell_type": "markdown",
   "metadata": {},
   "source": [
    "### find post"
   ]
  },
  {
   "cell_type": "code",
   "execution_count": null,
   "metadata": {},
   "outputs": [],
   "source": [
    "query = {\n",
    "    'keywords': 'factory',\n",
    "    'collaborators': [],\n",
    "}"
   ]
  },
  {
   "cell_type": "code",
   "execution_count": null,
   "metadata": {},
   "outputs": [],
   "source": [
    "r = requests.post('http://localhost:8080/search/post/', json=query, headers=auth_headers)\n",
    "if not r.status_code in range(200,300): print(r.text)"
   ]
  },
  {
   "cell_type": "code",
   "execution_count": null,
   "metadata": {},
   "outputs": [],
   "source": [
    "output = r.json()"
   ]
  },
  {
   "cell_type": "code",
   "execution_count": null,
   "metadata": {},
   "outputs": [],
   "source": [
    "output"
   ]
  },
  {
   "cell_type": "code",
   "execution_count": null,
   "metadata": {},
   "outputs": [],
   "source": [
    "output.sort(key=lambda x: (x['']))"
   ]
  },
  {
   "cell_type": "code",
   "execution_count": null,
   "metadata": {},
   "outputs": [],
   "source": [
    "r.json().keys()"
   ]
  },
  {
   "cell_type": "code",
   "execution_count": null,
   "metadata": {},
   "outputs": [],
   "source": [
    "for p in r.json()['posts']:\n",
    "    print(p)"
   ]
  },
  {
   "cell_type": "markdown",
   "metadata": {},
   "source": [
    "### create post"
   ]
  },
  {
   "cell_type": "code",
   "execution_count": null,
   "metadata": {},
   "outputs": [],
   "source": [
    "with open('./sample-data/celery_in_a_flask_application_factory.json','r') as f:\n",
    "    data = f.read()\n",
    "data = json.loads(data)"
   ]
  },
  {
   "cell_type": "code",
   "execution_count": null,
   "metadata": {},
   "outputs": [],
   "source": [
    "tag_names = ['apps',\n",
    " 'aws',\n",
    " 'containers',\n",
    " 'docker',\n",
    " 'healthtech',\n",
    " 'hippa',\n",
    " 'jill',\n",
    " 'tutorial']"
   ]
  },
  {
   "cell_type": "code",
   "execution_count": null,
   "metadata": {},
   "outputs": [],
   "source": [
    "import random"
   ]
  },
  {
   "cell_type": "code",
   "execution_count": null,
   "metadata": {},
   "outputs": [],
   "source": [
    "body.keys()"
   ]
  },
  {
   "cell_type": "code",
   "execution_count": null,
   "metadata": {},
   "outputs": [],
   "source": [
    "post = {\n",
    "    'title': data['title'],\n",
    "    'body': data['body'],\n",
    "    'explicit_tags': data['explicit_tags'],\n",
    "    'collaborators': []\n",
    "}\n",
    "    \n",
    "r = requests.post('http://localhost:8080/post/', json=post, headers = auth_headers)\n",
    "assert r.status_code in range(200,300), 'bad status'"
   ]
  },
  {
   "cell_type": "code",
   "execution_count": null,
   "metadata": {
    "scrolled": true
   },
   "outputs": [],
   "source": [
    "post_id=r.json()['post']['post_id']\n",
    "print('post {}'.format(post_id))"
   ]
  },
  {
   "cell_type": "code",
   "execution_count": null,
   "metadata": {},
   "outputs": [],
   "source": [
    "r = requests.get('http://localhost:8080/post/{}'.format(post_id), headers=auth_headers)\n",
    "assert r.status_code in range(200,300), 'bad status'"
   ]
  },
  {
   "cell_type": "code",
   "execution_count": null,
   "metadata": {},
   "outputs": [],
   "source": [
    "r.json()['post']['body'] == data['body']"
   ]
  },
  {
   "cell_type": "code",
   "execution_count": null,
   "metadata": {},
   "outputs": [],
   "source": [
    "r = requests.post('http://localhost:8080/post/23/upvote/', headers=auth_headers)"
   ]
  },
  {
   "cell_type": "code",
   "execution_count": null,
   "metadata": {},
   "outputs": [],
   "source": [
    "args = {'implicit': True}"
   ]
  },
  {
   "cell_type": "code",
   "execution_count": null,
   "metadata": {},
   "outputs": [],
   "source": [
    "r = requests.get(\n",
    "    'http://localhost:8080/tag/', headers=auth_headers, \n",
    "    params=args\n",
    ").json()"
   ]
  },
  {
   "cell_type": "code",
   "execution_count": null,
   "metadata": {},
   "outputs": [],
   "source": [
    "r = requests.post(\n",
    "    get_url('/search/post/'), \n",
    "    headers=auth_headers, \n",
    "    json={'keywords': '', 'collaborators': []})"
   ]
  },
  {
   "cell_type": "code",
   "execution_count": null,
   "metadata": {},
   "outputs": [],
   "source": [
    "r.text"
   ]
  },
  {
   "cell_type": "code",
   "execution_count": null,
   "metadata": {},
   "outputs": [],
   "source": [
    "r.status_code"
   ]
  }
 ],
 "metadata": {
  "kernelspec": {
   "display_name": "Python 3",
   "language": "python",
   "name": "python3"
  },
  "language_info": {
   "codemirror_mode": {
    "name": "ipython",
    "version": 3
   },
   "file_extension": ".py",
   "mimetype": "text/x-python",
   "name": "python",
   "nbconvert_exporter": "python",
   "pygments_lexer": "ipython3",
   "version": "3.6.5"
  }
 },
 "nbformat": 4,
 "nbformat_minor": 2
}
