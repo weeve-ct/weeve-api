{
 "cells": [
  {
   "cell_type": "code",
   "execution_count": 114,
   "metadata": {},
   "outputs": [],
   "source": [
    "from py2neo import Node, Relationship\n",
    "from py2neo import Graph, Path, NodeSelector\n",
    "import neokit\n",
    "import datetime"
   ]
  },
  {
   "cell_type": "code",
   "execution_count": 156,
   "metadata": {
    "collapsed": true
   },
   "outputs": [],
   "source": [
    "class GenieNode():\n",
    "    def __init__(self, node=None, title=None, payload=None):\n",
    "        \n",
    "        if node:\n",
    "            self.__node = node\n",
    "        else:\n",
    "            self.__node = Node(\"GenieNode\")\n",
    "            \n",
    "            if title:\n",
    "                self.title = title\n",
    "        \n",
    "            if payload:\n",
    "                self.__node['payload'] = payload\n",
    "            \n",
    "            self.__node['created'] = datetime.datetime.now().isoformat()\n",
    "        \n",
    "    def getNode(self):\n",
    "        return self.__node\n",
    "        \n",
    "    @property\n",
    "    def created(self):\n",
    "        return self.__node['created']\n",
    "        \n",
    "    @property\n",
    "    def title(self):\n",
    "        return self.__node.get('title')\n",
    "    \n",
    "    @title.setter\n",
    "    def title(self, val):\n",
    "        self.__node['title'] = val\n",
    "    \n",
    "    @property\n",
    "    def payload(self):\n",
    "        return self.__node.get('payload')\n",
    "    \n",
    "    @payload.setter\n",
    "    def payload(self, val):\n",
    "        self.__node['payload'] = val\n",
    "        \n",
    "    @property\n",
    "    def tags(self):\n",
    "        return self.__node.relationships()\n",
    "    \n",
    "    def add_tag(self, other_node, link):\n",
    "        r = Relationship(self.__node, link, other_node.getNode())\n",
    "        return r\n",
    "        \n",
    "    def __repr__(self):\n",
    "        return '<GenieNode \"{}\">'.format(self.title)        \n",
    "    \n",
    "    @classmethod\n",
    "    def from_nodes(cls, nodes):\n",
    "        for other in nodes:\n",
    "            yield cls(node=other)"
   ]
  },
  {
   "cell_type": "code",
   "execution_count": 145,
   "metadata": {
    "collapsed": true
   },
   "outputs": [],
   "source": [
    "myNode = GenieNode(title='first node', payload='some payload')"
   ]
  },
  {
   "cell_type": "code",
   "execution_count": 117,
   "metadata": {
    "collapsed": true
   },
   "outputs": [],
   "source": [
    "tag = '#GCP|Tutorial'\n",
    "tag_1, tag_2 = tag.strip('#').split('|')"
   ]
  },
  {
   "cell_type": "code",
   "execution_count": 84,
   "metadata": {
    "collapsed": true
   },
   "outputs": [],
   "source": [
    "otherNode = GenieNode(title=tag_1)"
   ]
  },
  {
   "cell_type": "code",
   "execution_count": 103,
   "metadata": {},
   "outputs": [],
   "source": [
    "r = myNode.add_tag(otherNode, tag_2)"
   ]
  },
  {
   "cell_type": "code",
   "execution_count": 110,
   "metadata": {},
   "outputs": [],
   "source": [
    "graph = Graph()\n",
    "tx = graph.begin()"
   ]
  },
  {
   "cell_type": "code",
   "execution_count": 100,
   "metadata": {},
   "outputs": [],
   "source": [
    "tx.create(myNode.getNode())\n",
    "tx.create(otherNode.getNode())"
   ]
  },
  {
   "cell_type": "code",
   "execution_count": 106,
   "metadata": {},
   "outputs": [],
   "source": [
    "tx.create(r)"
   ]
  },
  {
   "cell_type": "code",
   "execution_count": 107,
   "metadata": {
    "collapsed": true
   },
   "outputs": [],
   "source": [
    "tx.commit()"
   ]
  },
  {
   "cell_type": "code",
   "execution_count": 175,
   "metadata": {},
   "outputs": [],
   "source": [
    "graph = Graph()\n",
    "selector = NodeSelector(graph)\n",
    "selected = selector.select(\"GenieNode\", title=\"GCP\")\n",
    "myNode = GenieNode(node=selected.first())"
   ]
  },
  {
   "cell_type": "code",
   "execution_count": 158,
   "metadata": {
    "collapsed": true
   },
   "outputs": [],
   "source": [
    "nodes = graph.match(bidirectional=myNode.getNode())\n",
    "others = GenieNode.from_nodes(nodes)"
   ]
  },
  {
   "cell_type": "code",
   "execution_count": 173,
   "metadata": {},
   "outputs": [
    {
     "data": {
      "text/plain": [
       "[]"
      ]
     },
     "execution_count": 173,
     "metadata": {},
     "output_type": "execute_result"
    }
   ],
   "source": [
    "list(graph.match(start_node=myNode.getNode()))"
   ]
  },
  {
   "cell_type": "code",
   "execution_count": 177,
   "metadata": {},
   "outputs": [
    {
     "name": "stdout",
     "output_type": "stream",
     "text": [
      "(ab4b660)-[:Tutorial]->(a224039)\n"
     ]
    }
   ],
   "source": [
    "for rel in graph.match(end_node=myNode.getNode()):\n",
    "    print(rel.)"
   ]
  }
 ],
 "metadata": {
  "kernelspec": {
   "display_name": "Python 3",
   "language": "python",
   "name": "python3"
  },
  "language_info": {
   "codemirror_mode": {
    "name": "ipython",
    "version": 3
   },
   "file_extension": ".py",
   "mimetype": "text/x-python",
   "name": "python",
   "nbconvert_exporter": "python",
   "pygments_lexer": "ipython3",
   "version": "3.6.3"
  }
 },
 "nbformat": 4,
 "nbformat_minor": 2
}
