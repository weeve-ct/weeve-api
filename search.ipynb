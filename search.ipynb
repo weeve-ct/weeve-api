{
 "cells": [
  {
   "cell_type": "code",
   "execution_count": 8,
   "metadata": {
    "collapsed": true
   },
   "outputs": [],
   "source": [
    "import server\n",
    "import requests\n",
    "import os\n",
    "import random"
   ]
  },
  {
   "cell_type": "code",
   "execution_count": 9,
   "metadata": {
    "collapsed": true
   },
   "outputs": [],
   "source": [
    "os.environ['FLASK_CONFIG'] = './local/server-config-dev.yaml'\n",
    "app = server.create_app()"
   ]
  },
  {
   "cell_type": "code",
   "execution_count": 10,
   "metadata": {
    "collapsed": true
   },
   "outputs": [],
   "source": [
    "models = server.models\n",
    "db = server.models.db"
   ]
  },
  {
   "cell_type": "code",
   "execution_count": 12,
   "metadata": {},
   "outputs": [
    {
     "name": "stderr",
     "output_type": "stream",
     "text": [
      "/Users/zen/anaconda3/lib/python3.6/site-packages/pymysql/cursors.py:166: Warning: (1287, \"'@@tx_isolation' is deprecated and will be removed in a future release. Please use '@@transaction_isolation' instead\")\n",
      "  result = self._query(query)\n"
     ]
    }
   ],
   "source": [
    "with app.app_context():\n",
    "    q = db.session.query(models.Tag)\n",
    "    q = q.filter_by(has_explicit=True)\n",
    "    tags = q.all()\n",
    "\n",
    "tag_names = sorted([t.tag for t in tags])"
   ]
  },
  {
   "cell_type": "code",
   "execution_count": 13,
   "metadata": {},
   "outputs": [
    {
     "data": {
      "text/plain": [
       "['apps',\n",
       " 'aws',\n",
       " 'containers',\n",
       " 'docker',\n",
       " 'healthtech',\n",
       " 'hippa',\n",
       " 'jill',\n",
       " 'tutorial']"
      ]
     },
     "execution_count": 13,
     "metadata": {},
     "output_type": "execute_result"
    }
   ],
   "source": [
    "tag_names"
   ]
  },
  {
   "cell_type": "code",
   "execution_count": 14,
   "metadata": {
    "collapsed": true
   },
   "outputs": [],
   "source": [
    "def k_unique(vals, k=3):\n",
    "    output = set()\n",
    "    while len(output) < k:\n",
    "        output.add(random.choice(vals))\n",
    "    return list(output)"
   ]
  },
  {
   "cell_type": "code",
   "execution_count": 17,
   "metadata": {},
   "outputs": [],
   "source": [
    "search_tags = k_unique(tag_names, k=2)\n",
    "\n",
    "with app.app_context():\n",
    "    q = db.session.query(models.Post, db.func.count(models.Tag.tag))\n",
    "    q = q.select_from(models.Post)\n",
    "    q = q.join(models.Post.post_tags)\n",
    "    q = q.join(models.PostTag.tag)\n",
    "    q = q.filter(models.Tag.tag.in_(search_tags))\n",
    "    q = q.group_by(models.Post)\n",
    "#     q = q.having(db.func.count(models.Tag.tag) >= len(search_tags))\n",
    "    q = q.having(db.func.count(models.Tag.tag) >= 1)\n",
    "    \n",
    "    results = q.all()\n",
    "    output = []\n",
    "    for r in results:\n",
    "        post, count = r\n",
    "        post_tags = [p.tag.tag.lower() for p in post.post_tags]\n",
    "        post_tags.sort()\n",
    "        output.append((post, count, post_tags))"
   ]
  },
  {
   "cell_type": "code",
   "execution_count": 20,
   "metadata": {},
   "outputs": [
    {
     "name": "stdout",
     "output_type": "stream",
     "text": [
      "search:\n",
      "\t['hippa', 'apps']\n",
      "results:\n",
      "\tpost: 2, count: 1 <- 1, healthtech, hippa, jill, post\n",
      "\tpost: 3, count: 1 <- 2, apps, docker, healthtech, post\n",
      "\tpost: 7, count: 2 <- 6, apps, healthtech, hippa, post\n",
      "\tpost: 8, count: 1 <- 7, apps, aws, post, tutorial\n",
      "\tpost: 9, count: 1 <- 8, apps, containers, post, tutorial\n",
      "\tpost: 10, count: 1 <- 9, containers, hippa, jill, post\n"
     ]
    }
   ],
   "source": [
    "print('search:')\n",
    "print('\\t{}'.format(search_tags))\n",
    "print('results:')\n",
    "for post, count, post_tags in output:\n",
    "    msg = '\\tpost: {id}, count: {count} <- {tags}'.format(\n",
    "        id = post.id,\n",
    "        count = count,\n",
    "        tags = ', '.join(post_tags)\n",
    "    )\n",
    "    print(msg)"
   ]
  },
  {
   "cell_type": "code",
   "execution_count": null,
   "metadata": {
    "collapsed": true
   },
   "outputs": [],
   "source": []
  }
 ],
 "metadata": {
  "kernelspec": {
   "display_name": "Python 3",
   "language": "python",
   "name": "python3"
  },
  "language_info": {
   "codemirror_mode": {
    "name": "ipython",
    "version": 3
   },
   "file_extension": ".py",
   "mimetype": "text/x-python",
   "name": "python",
   "nbconvert_exporter": "python",
   "pygments_lexer": "ipython3",
   "version": "3.6.3"
  }
 },
 "nbformat": 4,
 "nbformat_minor": 2
}
