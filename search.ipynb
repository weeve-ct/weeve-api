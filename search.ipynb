{
 "cells": [
  {
   "cell_type": "code",
   "execution_count": 150,
   "metadata": {
    "collapsed": true
   },
   "outputs": [],
   "source": [
    "import server\n",
    "import requests\n",
    "import os\n",
    "import random"
   ]
  },
  {
   "cell_type": "code",
   "execution_count": 78,
   "metadata": {},
   "outputs": [],
   "source": [
    "os.environ['FLASK_CONFIG'] = './local/server-config-dev.yaml'\n",
    "app = server.create_app()"
   ]
  },
  {
   "cell_type": "code",
   "execution_count": 84,
   "metadata": {
    "collapsed": true
   },
   "outputs": [],
   "source": [
    "models = server.models\n",
    "db = server.models.db"
   ]
  },
  {
   "cell_type": "code",
   "execution_count": 172,
   "metadata": {},
   "outputs": [],
   "source": [
    "with app.app_context():\n",
    "    q = db.session.query(models.Tag)\n",
    "    q = q.filter_by(has_explicit=True)\n",
    "    tags = q.all()\n",
    "\n",
    "tag_names = sorted([t.tag for t in tags])"
   ]
  },
  {
   "cell_type": "code",
   "execution_count": 173,
   "metadata": {},
   "outputs": [
    {
     "data": {
      "text/plain": [
       "['apps',\n",
       " 'aws',\n",
       " 'containers',\n",
       " 'docker',\n",
       " 'healthtech',\n",
       " 'hippa',\n",
       " 'jill',\n",
       " 'tutorial']"
      ]
     },
     "execution_count": 173,
     "metadata": {},
     "output_type": "execute_result"
    }
   ],
   "source": [
    "tag_names"
   ]
  },
  {
   "cell_type": "code",
   "execution_count": 176,
   "metadata": {},
   "outputs": [],
   "source": [
    "def k_unique(vals, k=3):\n",
    "    output = set()\n",
    "    while len(output) < k:\n",
    "        output.add(random.choice(vals))\n",
    "    return list(output)"
   ]
  },
  {
   "cell_type": "code",
   "execution_count": 571,
   "metadata": {},
   "outputs": [],
   "source": [
    "search_tags = k_unique(tag_names, k=2)\n",
    "\n",
    "with app.app_context():\n",
    "    q = db.session.query(models.Post, db.func.count(models.Tag.tag))\n",
    "    q = q.select_from(models.Post)\n",
    "    q = q.join(models.Post.post_tags)\n",
    "    q = q.join(models.PostTag.tag)\n",
    "    q = q.filter(models.Tag.tag.in_(search_tags))\n",
    "    q = q.group_by(models.Post)\n",
    "    q = q.having(db.func.count(models.Tag.tag) >= len(search_tags))\n",
    "    \n",
    "    results = q.all()\n",
    "    output = []\n",
    "    for r in results:\n",
    "        post, count = r\n",
    "        post_tags = [p.tag.tag.lower() for p in post.post_tags]\n",
    "        post_tags.sort()\n",
    "        output.append((post, post_tags))"
   ]
  },
  {
   "cell_type": "code",
   "execution_count": 572,
   "metadata": {},
   "outputs": [
    {
     "name": "stdout",
     "output_type": "stream",
     "text": [
      "search:\n",
      "\t['containers', 'tutorial']\n",
      "results:\n",
      "\tpost: 5 -> tags: ['4', 'containers', 'healthtech', 'post', 'tutorial']\n",
      "\tpost: 9 -> tags: ['8', 'apps', 'containers', 'post', 'tutorial']\n"
     ]
    }
   ],
   "source": [
    "print('search:')\n",
    "print('\\t{}'.format(search_tags))\n",
    "print('results:')\n",
    "for post, post_tags in output:\n",
    "    print('\\tpost: {}'.format(post.id), '-> tags:',post_tags)"
   ]
  }
 ],
 "metadata": {
  "kernelspec": {
   "display_name": "Python 3",
   "language": "python",
   "name": "python3"
  },
  "language_info": {
   "codemirror_mode": {
    "name": "ipython",
    "version": 3
   },
   "file_extension": ".py",
   "mimetype": "text/x-python",
   "name": "python",
   "nbconvert_exporter": "python",
   "pygments_lexer": "ipython3",
   "version": "3.6.3"
  }
 },
 "nbformat": 4,
 "nbformat_minor": 2
}
