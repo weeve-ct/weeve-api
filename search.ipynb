{
 "cells": [
  {
   "cell_type": "code",
   "execution_count": 31,
   "metadata": {
    "collapsed": true
   },
   "outputs": [],
   "source": [
    "import server\n",
    "import requests\n",
    "import os\n",
    "import random\n",
    "\n",
    "STOPWORDS = server.controller.tokenizer.STOPWORDS"
   ]
  },
  {
   "cell_type": "code",
   "execution_count": 32,
   "metadata": {
    "collapsed": true
   },
   "outputs": [],
   "source": [
    "from server.controller.tokenizer import *\n",
    "from server.models import db, Post, Tag, User, PostTag"
   ]
  },
  {
   "cell_type": "code",
   "execution_count": 33,
   "metadata": {
    "collapsed": true
   },
   "outputs": [],
   "source": [
    "os.environ['FLASK_CONFIG'] = './local/server-config-dev.yaml'\n",
    "app = server.create_app()"
   ]
  },
  {
   "cell_type": "code",
   "execution_count": 34,
   "metadata": {
    "collapsed": true
   },
   "outputs": [],
   "source": [
    "models = server.models\n",
    "db = server.models.db"
   ]
  },
  {
   "cell_type": "code",
   "execution_count": 35,
   "metadata": {},
   "outputs": [
    {
     "name": "stderr",
     "output_type": "stream",
     "text": [
      "/Users/zen/anaconda3/lib/python3.6/site-packages/pymysql/cursors.py:166: Warning: (1287, \"'@@tx_isolation' is deprecated and will be removed in a future release. Please use '@@transaction_isolation' instead\")\n",
      "  result = self._query(query)\n"
     ]
    }
   ],
   "source": [
    "with app.app_context():\n",
    "    q = db.session.query(models.Tag)\n",
    "    q = q.filter_by(has_explicit=True)\n",
    "    tags = q.all()\n",
    "\n",
    "tag_names = sorted([t.tag for t in tags])"
   ]
  },
  {
   "cell_type": "code",
   "execution_count": 36,
   "metadata": {},
   "outputs": [
    {
     "data": {
      "text/plain": [
       "['apps',\n",
       " 'aws',\n",
       " 'containers',\n",
       " 'docker',\n",
       " 'healthtech',\n",
       " 'hippa',\n",
       " 'jill',\n",
       " 'tutorial']"
      ]
     },
     "execution_count": 36,
     "metadata": {},
     "output_type": "execute_result"
    }
   ],
   "source": [
    "tag_names"
   ]
  },
  {
   "cell_type": "code",
   "execution_count": 37,
   "metadata": {
    "collapsed": true
   },
   "outputs": [],
   "source": [
    "def k_unique(vals, k=3):\n",
    "    output = set()\n",
    "    while len(output) < k:\n",
    "        output.add(random.choice(vals))\n",
    "    return list(output)"
   ]
  },
  {
   "cell_type": "code",
   "execution_count": 72,
   "metadata": {
    "collapsed": true
   },
   "outputs": [],
   "source": [
    "title = 'deploying microservice apps in GCP with docker kubernetes'"
   ]
  },
  {
   "cell_type": "code",
   "execution_count": 73,
   "metadata": {},
   "outputs": [],
   "source": [
    "tokens = server.controller.tokenizer.get_tokens(title)"
   ]
  },
  {
   "cell_type": "code",
   "execution_count": 74,
   "metadata": {},
   "outputs": [],
   "source": [
    "with app.app_context():\n",
    "    original_words = set(t['original'].lower() for t in tokens if t['original']!=t['output'])\n",
    "    q = db.session.query(Tag)\n",
    "    q = q.filter(db.func.lower(Tag.tag).in_(original_words))\n",
    "    tags = q.all()\n",
    "    \n",
    "reverse_tag_lookup = {tag.tag.lower(): tag for tag in tags}"
   ]
  },
  {
   "cell_type": "code",
   "execution_count": 75,
   "metadata": {},
   "outputs": [],
   "source": [
    "add_tokens = []\n",
    "for token in tokens:\n",
    "    if token['original'] in reverse_tag_lookup and token['original'] != token['output']:\n",
    "        tag_obj = reverse_tag_lookup[token['original']]\n",
    "        add_tokens.append(\n",
    "            {\n",
    "                'output': tag_obj.tag,\n",
    "                'tag_id': tag_obj.id\n",
    "            }\n",
    "        )\n",
    "        \n",
    "tokens.extend(add_tokens)"
   ]
  },
  {
   "cell_type": "code",
   "execution_count": 76,
   "metadata": {
    "collapsed": true
   },
   "outputs": [],
   "source": [
    "tag_names = [t['output'] for t in tokens]"
   ]
  },
  {
   "cell_type": "code",
   "execution_count": 78,
   "metadata": {},
   "outputs": [
    {
     "name": "stdout",
     "output_type": "stream",
     "text": [
      "search:\n",
      "\t['deploy', 'microservice', 'apps', 'in', 'GCP', 'with', 'docker', 'kubernetes', 'deploying']\n",
      "results:\n",
      "\tpost: 01, count: 1, votes: 0 <- 0, containers, docker, healthtech, post\n",
      "\tpost: 03, count: 2, votes: 0 <- 2, apps, docker, healthtech, post\n",
      "\tpost: 06, count: 1, votes: 0 <- 5, docker, healthtech, post, tutorial\n",
      "\tpost: 07, count: 1, votes: 0 <- 6, apps, healthtech, hippa, post\n",
      "\tpost: 08, count: 1, votes: 0 <- 7, apps, aws, post, tutorial\n",
      "\tpost: 09, count: 1, votes: 0 <- 8, apps, containers, post, tutorial\n"
     ]
    }
   ],
   "source": [
    "# search_tags = k_unique(tag_names, k=2)\n",
    "search_tags = tag_names\n",
    "\n",
    "with app.app_context():\n",
    "    q = db.session.query(models.Post, db.func.count(models.Tag.tag))\n",
    "    q = q.select_from(models.Post)\n",
    "    q = q.join(models.Post.post_tags)\n",
    "    q = q.join(models.PostTag.tag)\n",
    "    q = q.filter(models.Tag.tag.in_(search_tags))\n",
    "    q = q.group_by(models.Post)\n",
    "#     q = q.having(db.func.count(models.Tag.tag) >= len(search_tags))\n",
    "    q = q.having(db.func.count(models.Tag.tag) >= 1)\n",
    "    \n",
    "    results = q.all()\n",
    "    output = []\n",
    "    for r in results:\n",
    "        post, count = r\n",
    "        post_tags = [p.tag.tag.lower() for p in post.post_tags]\n",
    "        upvotes = len(post.upvotes)\n",
    "        post_tags.sort()\n",
    "        output.append((post, count, upvotes, post_tags))\n",
    "\n",
    "print('search:')\n",
    "print('\\t{}'.format(search_tags))\n",
    "print('results:')\n",
    "for post, count, upvotes, post_tags in output:\n",
    "    msg = '\\tpost: {id}, count: {count}, votes: {votes} <- {tags}'.format(\n",
    "        id = str(post.id).zfill(2),\n",
    "        count = count,\n",
    "        tags = ', '.join(post_tags),\n",
    "        votes=upvotes\n",
    "    )\n",
    "    print(msg)"
   ]
  },
  {
   "cell_type": "code",
   "execution_count": null,
   "metadata": {
    "collapsed": true
   },
   "outputs": [],
   "source": []
  }
 ],
 "metadata": {
  "kernelspec": {
   "display_name": "Python 3",
   "language": "python",
   "name": "python3"
  },
  "language_info": {
   "codemirror_mode": {
    "name": "ipython",
    "version": 3
   },
   "file_extension": ".py",
   "mimetype": "text/x-python",
   "name": "python",
   "nbconvert_exporter": "python",
   "pygments_lexer": "ipython3",
   "version": "3.6.3"
  }
 },
 "nbformat": 4,
 "nbformat_minor": 2
}
