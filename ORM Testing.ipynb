{
 "cells": [
  {
   "cell_type": "code",
   "execution_count": 7,
   "metadata": {},
   "outputs": [],
   "source": [
    "from py2neo import Node, Relationship\n",
    "import neokit"
   ]
  },
  {
   "cell_type": "code",
   "execution_count": 154,
   "metadata": {},
   "outputs": [],
   "source": [
    "class User(object):\n",
    "    def __init__(self, name):\n",
    "        self.name = name\n",
    "        self.username=\"\"\n",
    "        self.password=\"\"\n",
    "        self.myDict={\"username\":self.username,\"password\":self.password}\n",
    "        self.node=Node(\"User\", name=self.name)\n",
    "        self.node.update(self.myDict)\n",
    "        \n",
    "    def setUsername(self,userName):\n",
    "        self.node.update(self.myDict)\n",
    "        \n",
    "    def setPassword(self,Password):\n",
    "        self.password=Password\n",
    "        \n",
    "class Idea(object):\n",
    "    def __init__(self, name):\n",
    "        self.node=Node(\"idea\", name=name)\n",
    "        self.payload=\"\"\n",
    "        \n",
    "    def addCollaborator(self,User):\n",
    "        return Relationship(User.node,\"contributes\", self.node)\n",
    "    \n",
    "    def setPayload(Content):\n",
    "        self.payload=Content\n",
    "        return self.payload\n",
    "        \n",
    "class Task(object):\n",
    "    def __init__(self, name):\n",
    "        self.name = name\n",
    "        self.node=Node(\"Task\", name=self.name)\n",
    "        \n",
    "    def addAssignee(self,User):\n",
    "        return Relationship(self.node,\"assignedTo\", User.node)\n",
    "    \n",
    "    def answers(self,Idea):\n",
    "        return Relationship(Idea.node,\"assignedTo\", self.node)\n",
    "    \n",
    "class Meeting(object):\n",
    "    def __init__(self,name):\n",
    "        self.name=name\n",
    "        self.node=Node(\"Meeting\",name=self.name)\n",
    "    \n",
    "    def addAttendee(self,User):\n",
    "        return Relationship(User.node,\"attends\", self.node)\n",
    "    \n",
    "    def createTask(self,Task):\n",
    "        return Relationship(User.node,\"promts\", self.node)"
   ]
  },
  {
   "cell_type": "code",
   "execution_count": 166,
   "metadata": {},
   "outputs": [],
   "source": [
    "from py2neo import Graph, Path\n",
    "username=\"neo4j\"\n",
    "password=\"12345\"\n",
    "graph = Graph(password=password)\n",
    "tx = graph.begin()\n",
    "\n"
   ]
  },
  {
   "cell_type": "code",
   "execution_count": 167,
   "metadata": {},
   "outputs": [],
   "source": [
    "u1=User(\"Luke\")\n",
    "u2=User(\"Zen\")\n",
    "m=Meeting(\"Sprint #1\")\n",
    "i=Idea(\"Sprint #3\")\n",
    "t=Task(\"validation\")"
   ]
  },
  {
   "cell_type": "code",
   "execution_count": 168,
   "metadata": {},
   "outputs": [
    {
     "data": {
      "text/plain": [
       "(zen)-[:contributes]->(`sprint_#3`)"
      ]
     },
     "execution_count": 168,
     "metadata": {},
     "output_type": "execute_result"
    }
   ],
   "source": [
    "rel1=m.addAttendee(u1)\n",
    "rel2=m.addAttendee(u2)\n",
    "i.addCollaborator(u2)"
   ]
  },
  {
   "cell_type": "code",
   "execution_count": 170,
   "metadata": {},
   "outputs": [],
   "source": [
    "tx.create(i.node)"
   ]
  },
  {
   "cell_type": "code",
   "execution_count": 171,
   "metadata": {},
   "outputs": [],
   "source": [
    "tx.commit()"
   ]
  },
  {
   "cell_type": "code",
   "execution_count": null,
   "metadata": {},
   "outputs": [],
   "source": []
  },
  {
   "cell_type": "code",
   "execution_count": null,
   "metadata": {
    "collapsed": true
   },
   "outputs": [],
   "source": []
  }
 ],
 "metadata": {
  "kernelspec": {
   "display_name": "Python 3",
   "language": "python",
   "name": "python3"
  },
  "language_info": {
   "codemirror_mode": {
    "name": "ipython",
    "version": 3
   },
   "file_extension": ".py",
   "mimetype": "text/x-python",
   "name": "python",
   "nbconvert_exporter": "python",
   "pygments_lexer": "ipython3",
   "version": "3.6.3"
  }
 },
 "nbformat": 4,
 "nbformat_minor": 2
}
