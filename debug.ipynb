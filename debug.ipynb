{
 "cells": [
  {
   "cell_type": "code",
   "execution_count": 1,
   "metadata": {},
   "outputs": [],
   "source": [
    "import requests\n",
    "import random\n",
    "import string\n",
    "import time"
   ]
  },
  {
   "cell_type": "code",
   "execution_count": 2,
   "metadata": {},
   "outputs": [],
   "source": [
    "user_cred = {\n",
    "    'username': 'user.1525313352.01@email.com',\n",
    "    'password': 'password'\n",
    "}\n",
    "r = requests.post('http://localhost:8080/auth/login', json=user_cred)\n",
    "token = r.json()['token']\n",
    "auth_headers = {'authorization': 'bearer {}'.format(token)}"
   ]
  },
  {
   "cell_type": "markdown",
   "metadata": {},
   "source": [
    "### find post"
   ]
  },
  {
   "cell_type": "code",
   "execution_count": 19,
   "metadata": {},
   "outputs": [],
   "source": [
    "query = {\n",
    "    'keywords': 'deploying deploying aws hippa healthtech',\n",
    "    'collaborators': [1],\n",
    "}"
   ]
  },
  {
   "cell_type": "code",
   "execution_count": 20,
   "metadata": {},
   "outputs": [],
   "source": [
    "r = requests.post('http://localhost:8080/search/post/', json=query, headers=auth_headers)\n",
    "if not r.status_code in range(200,300): print(r.text)"
   ]
  },
  {
   "cell_type": "code",
   "execution_count": 21,
   "metadata": {},
   "outputs": [],
   "source": [
    "output = r.json()"
   ]
  },
  {
   "cell_type": "code",
   "execution_count": 22,
   "metadata": {},
   "outputs": [
    {
     "data": {
      "text/plain": [
       "[{'display_name': 'user 1525313352.01',\n",
       "  'picture': None,\n",
       "  'post_count': 15,\n",
       "  'user_id': 1,\n",
       "  'username': 'user.1525313352.01@email.com'},\n",
       " {'display_name': 'user 1525313352.02',\n",
       "  'picture': None,\n",
       "  'post_count': 15,\n",
       "  'user_id': 2,\n",
       "  'username': 'user.1525313352.02@email.com'},\n",
       " {'display_name': 'user 1525313352.05',\n",
       "  'picture': None,\n",
       "  'post_count': 1,\n",
       "  'user_id': 5,\n",
       "  'username': 'user.1525313352.05@email.com'},\n",
       " {'display_name': 'user 1525313352.06',\n",
       "  'picture': None,\n",
       "  'post_count': 1,\n",
       "  'user_id': 6,\n",
       "  'username': 'user.1525313352.06@email.com'},\n",
       " {'display_name': 'user 1525313352.12',\n",
       "  'picture': None,\n",
       "  'post_count': 1,\n",
       "  'user_id': 12,\n",
       "  'username': 'user.1525313352.12@email.com'},\n",
       " {'display_name': 'user 1525313352.15',\n",
       "  'picture': None,\n",
       "  'post_count': 1,\n",
       "  'user_id': 15,\n",
       "  'username': 'user.1525313352.15@email.com'},\n",
       " {'display_name': 'user 1525313352.19',\n",
       "  'picture': None,\n",
       "  'post_count': 1,\n",
       "  'user_id': 19,\n",
       "  'username': 'user.1525313352.19@email.com'}]"
      ]
     },
     "execution_count": 22,
     "metadata": {},
     "output_type": "execute_result"
    }
   ],
   "source": [
    "output['experts']"
   ]
  },
  {
   "cell_type": "code",
   "execution_count": 181,
   "metadata": {},
   "outputs": [
    {
     "data": {
      "text/plain": [
       "[{'explicit_tags': ['apps', 'docker', 'healthtech'],\n",
       "  'modified_date': '2018-05-02T22:14:04',\n",
       "  'post_id': 3,\n",
       "  'title': 'Jacksonite endotheliolytic oilstone shameface equidominant primitively relativization Len enigma diaskeuasis',\n",
       "  'upvotes': 0}]"
      ]
     },
     "execution_count": 181,
     "metadata": {},
     "output_type": "execute_result"
    }
   ],
   "source": [
    "output"
   ]
  },
  {
   "cell_type": "code",
   "execution_count": null,
   "metadata": {},
   "outputs": [],
   "source": [
    "output.sort(key=lambda x: (x['']))"
   ]
  },
  {
   "cell_type": "code",
   "execution_count": 15,
   "metadata": {},
   "outputs": [
    {
     "data": {
      "text/plain": [
       "dict_keys(['experts', 'posts', 'tags'])"
      ]
     },
     "execution_count": 15,
     "metadata": {},
     "output_type": "execute_result"
    }
   ],
   "source": [
    "r.json().keys()"
   ]
  },
  {
   "cell_type": "code",
   "execution_count": 5,
   "metadata": {},
   "outputs": [
    {
     "name": "stdout",
     "output_type": "stream",
     "text": [
      "{'explicit_tags': ['aws', 'healthtech', 'hippa'], 'modified_date': '2018-05-02T23:49:08', 'post_id': 22, 'title': 'black magic', 'upvotes': 2}\n",
      "{'explicit_tags': ['aws', 'healthtech', 'hippa'], 'modified_date': '2018-05-02T23:49:08', 'post_id': 23, 'title': 'black magic', 'upvotes': 2}\n",
      "{'explicit_tags': ['aws', 'healthtech', 'hippa'], 'modified_date': '2018-05-02T23:49:08', 'post_id': 21, 'title': 'black magic', 'upvotes': 1}\n",
      "{'explicit_tags': ['aws', 'healthtech', 'hippa'], 'modified_date': '2018-05-02T23:49:08', 'post_id': 24, 'title': 'black magic 2', 'upvotes': 1}\n",
      "{'explicit_tags': ['deploying'], 'modified_date': '2018-05-02T23:28:30', 'post_id': 11, 'title': 'Post 0', 'upvotes': 0}\n",
      "{'explicit_tags': ['deploying'], 'modified_date': '2018-05-02T23:28:30', 'post_id': 12, 'title': 'Post 1', 'upvotes': 0}\n",
      "{'explicit_tags': ['deploying'], 'modified_date': '2018-05-02T23:28:30', 'post_id': 13, 'title': 'Post 2', 'upvotes': 0}\n",
      "{'explicit_tags': ['deploying'], 'modified_date': '2018-05-02T23:28:30', 'post_id': 14, 'title': 'Post 3', 'upvotes': 0}\n",
      "{'explicit_tags': ['deploying'], 'modified_date': '2018-05-02T23:28:30', 'post_id': 15, 'title': 'Post 4', 'upvotes': 0}\n",
      "{'explicit_tags': ['deploying'], 'modified_date': '2018-05-02T23:28:30', 'post_id': 16, 'title': 'Post 5', 'upvotes': 0}\n",
      "{'explicit_tags': ['deploying'], 'modified_date': '2018-05-02T23:28:30', 'post_id': 17, 'title': 'Post 6', 'upvotes': 0}\n",
      "{'explicit_tags': ['deploying'], 'modified_date': '2018-05-02T23:28:30', 'post_id': 18, 'title': 'Post 7', 'upvotes': 0}\n",
      "{'explicit_tags': ['deploying'], 'modified_date': '2018-05-02T23:28:30', 'post_id': 19, 'title': 'Post 8', 'upvotes': 0}\n",
      "{'explicit_tags': ['deploying'], 'modified_date': '2018-05-02T23:28:30', 'post_id': 20, 'title': 'Post 9', 'upvotes': 0}\n",
      "{'explicit_tags': ['apps', 'docker', 'healthtech'], 'modified_date': '2018-05-02T22:14:04', 'post_id': 3, 'title': 'Jacksonite endotheliolytic oilstone shameface equidominant primitively relativization Len enigma diaskeuasis', 'upvotes': 0}\n"
     ]
    }
   ],
   "source": [
    "for p in r.json()['posts']:\n",
    "    print(p)"
   ]
  },
  {
   "cell_type": "markdown",
   "metadata": {},
   "source": [
    "### create post"
   ]
  },
  {
   "cell_type": "code",
   "execution_count": 45,
   "metadata": {},
   "outputs": [],
   "source": [
    "tag_names = ['apps',\n",
    " 'aws',\n",
    " 'containers',\n",
    " 'docker',\n",
    " 'healthtech',\n",
    " 'hippa',\n",
    " 'jill',\n",
    " 'tutorial']"
   ]
  },
  {
   "cell_type": "code",
   "execution_count": 46,
   "metadata": {},
   "outputs": [],
   "source": [
    "import random"
   ]
  },
  {
   "cell_type": "code",
   "execution_count": 132,
   "metadata": {},
   "outputs": [],
   "source": [
    "post = {\n",
    "    'title': 'black magic 2',\n",
    "    'body': 'magic nuga',\n",
    "    'explicit_tags': ['aws', 'healthtech', 'hippa'],\n",
    "    'collaborators': [1,2]\n",
    "}\n",
    "    \n",
    "r = requests.post('http://localhost:8080/post/', json=post, headers = auth_headers)\n",
    "assert r.status_code in range(200,300), 'bad status'"
   ]
  },
  {
   "cell_type": "code",
   "execution_count": 135,
   "metadata": {},
   "outputs": [],
   "source": [
    "r = requests.post('http://localhost:8080/post/23/upvote/', headers=auth_headers)"
   ]
  },
  {
   "cell_type": "code",
   "execution_count": 69,
   "metadata": {
    "collapsed": true
   },
   "outputs": [],
   "source": [
    "args = {'implicit': True}"
   ]
  },
  {
   "cell_type": "code",
   "execution_count": 70,
   "metadata": {
    "collapsed": true
   },
   "outputs": [],
   "source": [
    "r = requests.get(\n",
    "    'http://localhost:8080/tag/', headers=auth_headers, \n",
    "    params=args\n",
    ").json()"
   ]
  }
 ],
 "metadata": {
  "kernelspec": {
   "display_name": "Python 3",
   "language": "python",
   "name": "python3"
  },
  "language_info": {
   "codemirror_mode": {
    "name": "ipython",
    "version": 3
   },
   "file_extension": ".py",
   "mimetype": "text/x-python",
   "name": "python",
   "nbconvert_exporter": "python",
   "pygments_lexer": "ipython3",
   "version": "3.6.5"
  }
 },
 "nbformat": 4,
 "nbformat_minor": 2
}
