{
 "cells": [
  {
   "cell_type": "code",
   "execution_count": 1,
   "metadata": {
    "collapsed": true
   },
   "outputs": [],
   "source": [
    "import requests\n",
    "import random\n",
    "import string"
   ]
  },
  {
   "cell_type": "code",
   "execution_count": 2,
   "metadata": {
    "collapsed": true
   },
   "outputs": [],
   "source": [
    "user_cred_1 = {'username': 'user_1@cornell.edu', 'password': 'password'}\n",
    "user_cred_2 = {'username': 'user_2@cornell.edu', 'password': 'password'}\n",
    "user_creds = [user_cred_1, user_cred_2]"
   ]
  },
  {
   "cell_type": "markdown",
   "metadata": {},
   "source": [
    "### signup"
   ]
  },
  {
   "cell_type": "code",
   "execution_count": 3,
   "metadata": {},
   "outputs": [
    {
     "name": "stdout",
     "output_type": "stream",
     "text": [
      "401 <- user_1@cornell.edu\n",
      "401 <- user_2@cornell.edu\n"
     ]
    }
   ],
   "source": [
    "for user_cred in user_creds:\n",
    "    # get token\n",
    "    r = requests.post('http://localhost:8080/auth/signup', json=user_cred)\n",
    "    print(r.status_code,'<-',user_cred['username'])"
   ]
  },
  {
   "cell_type": "markdown",
   "metadata": {},
   "source": [
    "### auth"
   ]
  },
  {
   "cell_type": "code",
   "execution_count": 10,
   "metadata": {
    "collapsed": true
   },
   "outputs": [],
   "source": [
    "user_cred = user_creds[0]"
   ]
  },
  {
   "cell_type": "code",
   "execution_count": 11,
   "metadata": {},
   "outputs": [
    {
     "name": "stdout",
     "output_type": "stream",
     "text": [
      "status: 201\n"
     ]
    }
   ],
   "source": [
    "# get token\n",
    "r = requests.post(\n",
    "    'http://localhost:8080/auth/login', \n",
    "    json=user_cred\n",
    ")\n",
    "\n",
    "auth_token = r.json()['token']\n",
    "auth_headers = {'authorization': 'Bearer {}'.format(auth_token)}\n",
    "\n",
    "print('status:', r.status_code)"
   ]
  },
  {
   "cell_type": "markdown",
   "metadata": {},
   "source": [
    "### create post"
   ]
  },
  {
   "cell_type": "code",
   "execution_count": 76,
   "metadata": {
    "collapsed": true
   },
   "outputs": [],
   "source": [
    "post = {\n",
    "    'title': \"Applying for vacation time off with HR\",\n",
    "    'body': ''.join(random.choices(string.ascii_letters + string.digits, k=10000)) ,\n",
    "    'explicit_tags': ['vacation','approval'],\n",
    "    'collaborators': [1,2]\n",
    "}"
   ]
  },
  {
   "cell_type": "code",
   "execution_count": 77,
   "metadata": {},
   "outputs": [
    {
     "name": "stdout",
     "output_type": "stream",
     "text": [
      "201\n"
     ]
    }
   ],
   "source": [
    "r = requests.post(\n",
    "    'http://localhost:8080/post/',\n",
    "    json=post,\n",
    "    headers = auth_headers\n",
    ")\n",
    "print(r.status_code)"
   ]
  },
  {
   "cell_type": "code",
   "execution_count": 78,
   "metadata": {},
   "outputs": [
    {
     "name": "stdout",
     "output_type": "stream",
     "text": [
      "collaborators \t [1, 2]\n",
      "created_date \t 2018-04-23T16:43:37\n",
      "explicit_tags \t ['vacation', 'approval']\n",
      "implicit_tags \t ['time', 'apply', 'HR']\n",
      "modified_date \t 2018-04-23T16:43:37\n",
      "post_id \t 6\n",
      "title \t Applying for vacation time off with HR\n",
      "upvotes \t []\n"
     ]
    }
   ],
   "source": [
    "output = r.json()['post']\n",
    "\n",
    "for k,v in output.items():\n",
    "    if not k == 'body':\n",
    "        print(k,'\\t',v)"
   ]
  },
  {
   "cell_type": "code",
   "execution_count": null,
   "metadata": {
    "collapsed": true
   },
   "outputs": [],
   "source": [
    "vacation time off"
   ]
  },
  {
   "cell_type": "code",
   "execution_count": 21,
   "metadata": {},
   "outputs": [
    {
     "name": "stdout",
     "output_type": "stream",
     "text": [
      "collaborators \t [1, 2]\n",
      "created_date \t 2018-04-23T16:29:25\n",
      "explicit_tags \t ['GraphDB', 'Data']\n",
      "implicit_tags \t ['microservice', 'Zen', 'run', 'guide', 'app', 'Azure']\n",
      "modified_date \t 2018-04-23T16:29:25\n",
      "post_id \t 3\n",
      "title \t Running a microservice, app in Azure, Zen's guide?!?\n",
      "upvotes \t []\n"
     ]
    }
   ],
   "source": [
    "r = requests.get('http://localhost:8080/post/3',headers=auth_headers)\n",
    "for k,v in r.json()['post'].items():\n",
    "    if not k == 'body':\n",
    "        print(k,'\\t',v)"
   ]
  },
  {
   "cell_type": "code",
   "execution_count": 7,
   "metadata": {
    "collapsed": true
   },
   "outputs": [],
   "source": [
    "# for the autocomplete"
   ]
  },
  {
   "cell_type": "code",
   "execution_count": 12,
   "metadata": {
    "scrolled": true
   },
   "outputs": [
    {
     "data": {
      "text/plain": [
       "{'code': 'success'}"
      ]
     },
     "execution_count": 12,
     "metadata": {},
     "output_type": "execute_result"
    }
   ],
   "source": [
    "requests.post('http://localhost:8080/post/1/upvote/', headers=auth_headers).json()"
   ]
  },
  {
   "cell_type": "code",
   "execution_count": 14,
   "metadata": {
    "scrolled": true
   },
   "outputs": [
    {
     "data": {
      "text/plain": [
       "{'code': 'success'}"
      ]
     },
     "execution_count": 14,
     "metadata": {},
     "output_type": "execute_result"
    }
   ],
   "source": [
    "requests.delete('http://localhost:8080/post/1/upvote/', headers=auth_headers).json()"
   ]
  },
  {
   "cell_type": "code",
   "execution_count": 67,
   "metadata": {
    "collapsed": true
   },
   "outputs": [],
   "source": [
    "args = {'startswith': 'g', 'implicit': False}"
   ]
  },
  {
   "cell_type": "code",
   "execution_count": 68,
   "metadata": {},
   "outputs": [],
   "source": [
    "r = requests.get('http://localhost:8080/tag/', headers=auth_headers, params=args).json()"
   ]
  },
  {
   "cell_type": "code",
   "execution_count": 69,
   "metadata": {},
   "outputs": [
    {
     "data": {
      "text/plain": [
       "{'tags': ['GraphDB']}"
      ]
     },
     "execution_count": 69,
     "metadata": {},
     "output_type": "execute_result"
    }
   ],
   "source": [
    "r"
   ]
  },
  {
   "cell_type": "code",
   "execution_count": null,
   "metadata": {
    "collapsed": true
   },
   "outputs": [],
   "source": []
  }
 ],
 "metadata": {
  "kernelspec": {
   "display_name": "Python 3",
   "language": "python",
   "name": "python3"
  },
  "language_info": {
   "codemirror_mode": {
    "name": "ipython",
    "version": 3
   },
   "file_extension": ".py",
   "mimetype": "text/x-python",
   "name": "python",
   "nbconvert_exporter": "python",
   "pygments_lexer": "ipython3",
   "version": "3.6.3"
  }
 },
 "nbformat": 4,
 "nbformat_minor": 2
}
