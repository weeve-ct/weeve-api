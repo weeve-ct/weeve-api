{
 "cells": [
  {
   "cell_type": "code",
   "execution_count": 249,
   "metadata": {},
   "outputs": [],
   "source": [
    "import requests\n",
    "import random\n",
    "import string\n",
    "import time\n",
    "import re\n",
    "import json\n",
    "from urllib.parse import urljoin"
   ]
  },
  {
   "cell_type": "code",
   "execution_count": 265,
   "metadata": {},
   "outputs": [],
   "source": [
    "SERVER = 'http://weeve-api.cornell.tech'\n",
    "get_url = lambda x: urljoin(SERVER,x)"
   ]
  },
  {
   "cell_type": "code",
   "execution_count": 263,
   "metadata": {},
   "outputs": [],
   "source": [
    "user_cred = {\n",
    "    'username': 'zen@cornell.edu',\n",
    "    'password': 'password'\n",
    "}"
   ]
  },
  {
   "cell_type": "code",
   "execution_count": 266,
   "metadata": {},
   "outputs": [
    {
     "name": "stdout",
     "output_type": "stream",
     "text": [
      "{\"code\":\"access_denied\",\"message\":\"user already exists\"}\n",
      "\n"
     ]
    }
   ],
   "source": [
    "r = requests.post(get_url('auth/signup'), json=user_cred)\n",
    "if not r.status_code in range(200,300): print(r.text)"
   ]
  },
  {
   "cell_type": "code",
   "execution_count": 267,
   "metadata": {},
   "outputs": [],
   "source": [
    "r = requests.post(get_url('auth/login'), json=user_cred)\n",
    "token = r.json()['token']\n",
    "auth_headers = {'authorization': 'bearer {}'.format(token)}"
   ]
  },
  {
   "cell_type": "markdown",
   "metadata": {},
   "source": [
    "### get post"
   ]
  },
  {
   "cell_type": "code",
   "execution_count": 270,
   "metadata": {},
   "outputs": [
    {
     "name": "stdout",
     "output_type": "stream",
     "text": [
      "{\"code\":\"bad_query\",\"message\":\"post \\\"27\\\" not found\"}\n",
      "\n"
     ]
    },
    {
     "ename": "KeyError",
     "evalue": "'post'",
     "output_type": "error",
     "traceback": [
      "\u001b[0;31m---------------------------------------------------------------------------\u001b[0m",
      "\u001b[0;31mKeyError\u001b[0m                                  Traceback (most recent call last)",
      "\u001b[0;32m<ipython-input-270-651783a17ae9>\u001b[0m in \u001b[0;36m<module>\u001b[0;34m()\u001b[0m\n\u001b[1;32m      2\u001b[0m \u001b[0;32mif\u001b[0m \u001b[0;32mnot\u001b[0m \u001b[0mr\u001b[0m\u001b[0;34m.\u001b[0m\u001b[0mstatus_code\u001b[0m \u001b[0;32min\u001b[0m \u001b[0mrange\u001b[0m\u001b[0;34m(\u001b[0m\u001b[0;36m200\u001b[0m\u001b[0;34m,\u001b[0m\u001b[0;36m300\u001b[0m\u001b[0;34m)\u001b[0m\u001b[0;34m:\u001b[0m \u001b[0mprint\u001b[0m\u001b[0;34m(\u001b[0m\u001b[0mr\u001b[0m\u001b[0;34m.\u001b[0m\u001b[0mtext\u001b[0m\u001b[0;34m)\u001b[0m\u001b[0;34m\u001b[0m\u001b[0m\n\u001b[1;32m      3\u001b[0m \u001b[0;34m\u001b[0m\u001b[0m\n\u001b[0;32m----> 4\u001b[0;31m \u001b[0mpayload\u001b[0m \u001b[0;34m=\u001b[0m \u001b[0mr\u001b[0m\u001b[0;34m.\u001b[0m\u001b[0mjson\u001b[0m\u001b[0;34m(\u001b[0m\u001b[0;34m)\u001b[0m\u001b[0;34m[\u001b[0m\u001b[0;34m'post'\u001b[0m\u001b[0;34m]\u001b[0m\u001b[0;34m\u001b[0m\u001b[0m\n\u001b[0m\u001b[1;32m      5\u001b[0m \u001b[0mbody\u001b[0m \u001b[0;34m=\u001b[0m \u001b[0mpayload\u001b[0m\u001b[0;34m[\u001b[0m\u001b[0;34m'body'\u001b[0m\u001b[0;34m]\u001b[0m\u001b[0;34m\u001b[0m\u001b[0m\n\u001b[1;32m      6\u001b[0m \u001b[0mtitle\u001b[0m \u001b[0;34m=\u001b[0m \u001b[0mpayload\u001b[0m\u001b[0;34m[\u001b[0m\u001b[0;34m'title'\u001b[0m\u001b[0;34m]\u001b[0m\u001b[0;34m\u001b[0m\u001b[0m\n",
      "\u001b[0;31mKeyError\u001b[0m: 'post'"
     ]
    }
   ],
   "source": [
    "r = requests.get(get_url('post/27'), headers=auth_headers)\n",
    "if not r.status_code in range(200,300): print(r.text)\n",
    "\n",
    "payload = r.json()['post']\n",
    "body = payload['body']\n",
    "title = payload['title']\n",
    "explicit_tags = payload['explicit_tags']\n",
    "post_id = time.time()\n",
    "\n",
    "for k in sorted(payload.keys()):\n",
    "    print(k)"
   ]
  },
  {
   "cell_type": "code",
   "execution_count": 85,
   "metadata": {},
   "outputs": [
    {
     "data": {
      "text/plain": [
       "['flask', 'celery', 'python']"
      ]
     },
     "execution_count": 85,
     "metadata": {},
     "output_type": "execute_result"
    }
   ],
   "source": [
    "payload['explicit_tags']"
   ]
  },
  {
   "cell_type": "code",
   "execution_count": 80,
   "metadata": {},
   "outputs": [
    {
     "data": {
      "text/plain": [
       "['flask', 'celery', 'python']"
      ]
     },
     "execution_count": 80,
     "metadata": {},
     "output_type": "execute_result"
    }
   ],
   "source": [
    "explicit_tags"
   ]
  },
  {
   "cell_type": "markdown",
   "metadata": {},
   "source": [
    "### find post"
   ]
  },
  {
   "cell_type": "code",
   "execution_count": 99,
   "metadata": {},
   "outputs": [],
   "source": [
    "query = {\n",
    "    'keywords': 'factory',\n",
    "    'collaborators': [],\n",
    "}"
   ]
  },
  {
   "cell_type": "code",
   "execution_count": 100,
   "metadata": {},
   "outputs": [],
   "source": [
    "r = requests.post('http://localhost:8080/search/post/', json=query, headers=auth_headers)\n",
    "if not r.status_code in range(200,300): print(r.text)"
   ]
  },
  {
   "cell_type": "code",
   "execution_count": 101,
   "metadata": {},
   "outputs": [],
   "source": [
    "output = r.json()"
   ]
  },
  {
   "cell_type": "code",
   "execution_count": 102,
   "metadata": {},
   "outputs": [
    {
     "data": {
      "text/plain": [
       "{'experts': [{'display_name': 'jill@cornell.edu',\n",
       "   'picture': None,\n",
       "   'post_count': 1,\n",
       "   'user_id': 21,\n",
       "   'username': 'jill@cornell.edu'}],\n",
       " 'posts': [{'explicit_tags': ['celery', 'flask', 'python'],\n",
       "   'modified_date': '2018-05-03T23:58:08',\n",
       "   'post_id': 27,\n",
       "   'title': 'Celery in a Flask Application Factory',\n",
       "   'upvotes': 0}],\n",
       " 'tags': [{'post_count': 1, 'tag': 'python'},\n",
       "  {'post_count': 1, 'tag': 'flask'},\n",
       "  {'post_count': 1, 'tag': 'celery'}]}"
      ]
     },
     "execution_count": 102,
     "metadata": {},
     "output_type": "execute_result"
    }
   ],
   "source": [
    "output"
   ]
  },
  {
   "cell_type": "code",
   "execution_count": null,
   "metadata": {},
   "outputs": [],
   "source": [
    "output.sort(key=lambda x: (x['']))"
   ]
  },
  {
   "cell_type": "code",
   "execution_count": 15,
   "metadata": {},
   "outputs": [
    {
     "data": {
      "text/plain": [
       "dict_keys(['experts', 'posts', 'tags'])"
      ]
     },
     "execution_count": 15,
     "metadata": {},
     "output_type": "execute_result"
    }
   ],
   "source": [
    "r.json().keys()"
   ]
  },
  {
   "cell_type": "code",
   "execution_count": 5,
   "metadata": {
    "collapsed": true
   },
   "outputs": [
    {
     "name": "stdout",
     "output_type": "stream",
     "text": [
      "{'explicit_tags': ['aws', 'healthtech', 'hippa'], 'modified_date': '2018-05-02T23:49:08', 'post_id': 22, 'title': 'black magic', 'upvotes': 2}\n",
      "{'explicit_tags': ['aws', 'healthtech', 'hippa'], 'modified_date': '2018-05-02T23:49:08', 'post_id': 23, 'title': 'black magic', 'upvotes': 2}\n",
      "{'explicit_tags': ['aws', 'healthtech', 'hippa'], 'modified_date': '2018-05-02T23:49:08', 'post_id': 21, 'title': 'black magic', 'upvotes': 1}\n",
      "{'explicit_tags': ['aws', 'healthtech', 'hippa'], 'modified_date': '2018-05-02T23:49:08', 'post_id': 24, 'title': 'black magic 2', 'upvotes': 1}\n",
      "{'explicit_tags': ['deploying'], 'modified_date': '2018-05-02T23:28:30', 'post_id': 11, 'title': 'Post 0', 'upvotes': 0}\n",
      "{'explicit_tags': ['deploying'], 'modified_date': '2018-05-02T23:28:30', 'post_id': 12, 'title': 'Post 1', 'upvotes': 0}\n",
      "{'explicit_tags': ['deploying'], 'modified_date': '2018-05-02T23:28:30', 'post_id': 13, 'title': 'Post 2', 'upvotes': 0}\n",
      "{'explicit_tags': ['deploying'], 'modified_date': '2018-05-02T23:28:30', 'post_id': 14, 'title': 'Post 3', 'upvotes': 0}\n",
      "{'explicit_tags': ['deploying'], 'modified_date': '2018-05-02T23:28:30', 'post_id': 15, 'title': 'Post 4', 'upvotes': 0}\n",
      "{'explicit_tags': ['deploying'], 'modified_date': '2018-05-02T23:28:30', 'post_id': 16, 'title': 'Post 5', 'upvotes': 0}\n",
      "{'explicit_tags': ['deploying'], 'modified_date': '2018-05-02T23:28:30', 'post_id': 17, 'title': 'Post 6', 'upvotes': 0}\n",
      "{'explicit_tags': ['deploying'], 'modified_date': '2018-05-02T23:28:30', 'post_id': 18, 'title': 'Post 7', 'upvotes': 0}\n",
      "{'explicit_tags': ['deploying'], 'modified_date': '2018-05-02T23:28:30', 'post_id': 19, 'title': 'Post 8', 'upvotes': 0}\n",
      "{'explicit_tags': ['deploying'], 'modified_date': '2018-05-02T23:28:30', 'post_id': 20, 'title': 'Post 9', 'upvotes': 0}\n",
      "{'explicit_tags': ['apps', 'docker', 'healthtech'], 'modified_date': '2018-05-02T22:14:04', 'post_id': 3, 'title': 'Jacksonite endotheliolytic oilstone shameface equidominant primitively relativization Len enigma diaskeuasis', 'upvotes': 0}\n"
     ]
    }
   ],
   "source": [
    "for p in r.json()['posts']:\n",
    "    print(p)"
   ]
  },
  {
   "cell_type": "markdown",
   "metadata": {},
   "source": [
    "### create post"
   ]
  },
  {
   "cell_type": "code",
   "execution_count": 240,
   "metadata": {},
   "outputs": [],
   "source": [
    "with open('./sample-data/celery_in_a_flask_application_factory.json','r') as f:\n",
    "    data = f.read()\n",
    "data = json.loads(data)"
   ]
  },
  {
   "cell_type": "code",
   "execution_count": 226,
   "metadata": {},
   "outputs": [],
   "source": [
    "tag_names = ['apps',\n",
    " 'aws',\n",
    " 'containers',\n",
    " 'docker',\n",
    " 'healthtech',\n",
    " 'hippa',\n",
    " 'jill',\n",
    " 'tutorial']"
   ]
  },
  {
   "cell_type": "code",
   "execution_count": 227,
   "metadata": {},
   "outputs": [],
   "source": [
    "import random"
   ]
  },
  {
   "cell_type": "code",
   "execution_count": 232,
   "metadata": {},
   "outputs": [
    {
     "data": {
      "text/plain": [
       "dict_keys(['body', 'title', 'explicit_tags'])"
      ]
     },
     "execution_count": 232,
     "metadata": {},
     "output_type": "execute_result"
    }
   ],
   "source": [
    "body.keys()"
   ]
  },
  {
   "cell_type": "code",
   "execution_count": 241,
   "metadata": {},
   "outputs": [],
   "source": [
    "post = {\n",
    "    'title': data['title'],\n",
    "    'body': data['body'],\n",
    "    'explicit_tags': data['explicit_tags'],\n",
    "    'collaborators': []\n",
    "}\n",
    "    \n",
    "r = requests.post('http://localhost:8080/post/', json=post, headers = auth_headers)\n",
    "assert r.status_code in range(200,300), 'bad status'"
   ]
  },
  {
   "cell_type": "code",
   "execution_count": 242,
   "metadata": {
    "scrolled": true
   },
   "outputs": [
    {
     "name": "stdout",
     "output_type": "stream",
     "text": [
      "post 8\n"
     ]
    }
   ],
   "source": [
    "post_id=r.json()['post']['post_id']\n",
    "print('post {}'.format(post_id))"
   ]
  },
  {
   "cell_type": "code",
   "execution_count": 243,
   "metadata": {},
   "outputs": [],
   "source": [
    "r = requests.get('http://localhost:8080/post/{}'.format(post_id), headers=auth_headers)\n",
    "assert r.status_code in range(200,300), 'bad status'"
   ]
  },
  {
   "cell_type": "code",
   "execution_count": 244,
   "metadata": {},
   "outputs": [
    {
     "data": {
      "text/plain": [
       "True"
      ]
     },
     "execution_count": 244,
     "metadata": {},
     "output_type": "execute_result"
    }
   ],
   "source": [
    "r.json()['post']['body'] == data['body']"
   ]
  },
  {
   "cell_type": "code",
   "execution_count": 122,
   "metadata": {},
   "outputs": [],
   "source": [
    "r = requests.post('http://localhost:8080/post/23/upvote/', headers=auth_headers)"
   ]
  },
  {
   "cell_type": "code",
   "execution_count": 69,
   "metadata": {
    "collapsed": true
   },
   "outputs": [],
   "source": [
    "args = {'implicit': True}"
   ]
  },
  {
   "cell_type": "code",
   "execution_count": 70,
   "metadata": {
    "collapsed": true
   },
   "outputs": [],
   "source": [
    "r = requests.get(\n",
    "    'http://localhost:8080/tag/', headers=auth_headers, \n",
    "    params=args\n",
    ").json()"
   ]
  },
  {
   "cell_type": "code",
   "execution_count": 279,
   "metadata": {},
   "outputs": [],
   "source": [
    "r = requests.post(\n",
    "    get_url('/search/post/'), \n",
    "    headers=auth_headers, \n",
    "    json={'keywords': '', 'collaborators': []})"
   ]
  },
  {
   "cell_type": "code",
   "execution_count": 280,
   "metadata": {},
   "outputs": [
    {
     "data": {
      "text/plain": [
       "'{\"experts\":[],\"posts\":[],\"tags\":[]}\\n'"
      ]
     },
     "execution_count": 280,
     "metadata": {},
     "output_type": "execute_result"
    }
   ],
   "source": [
    "r.text"
   ]
  },
  {
   "cell_type": "code",
   "execution_count": 273,
   "metadata": {},
   "outputs": [
    {
     "data": {
      "text/plain": [
       "400"
      ]
     },
     "execution_count": 273,
     "metadata": {},
     "output_type": "execute_result"
    }
   ],
   "source": [
    "r.status_code"
   ]
  }
 ],
 "metadata": {
  "kernelspec": {
   "display_name": "Python 3",
   "language": "python",
   "name": "python3"
  },
  "language_info": {
   "codemirror_mode": {
    "name": "ipython",
    "version": 3
   },
   "file_extension": ".py",
   "mimetype": "text/x-python",
   "name": "python",
   "nbconvert_exporter": "python",
   "pygments_lexer": "ipython3",
   "version": "3.6.5"
  }
 },
 "nbformat": 4,
 "nbformat_minor": 2
}
