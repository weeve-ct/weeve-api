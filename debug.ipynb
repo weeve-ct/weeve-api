{
 "cells": [
  {
   "cell_type": "code",
   "execution_count": 129,
   "metadata": {},
   "outputs": [],
   "source": [
    "import requests\n",
    "import random\n",
    "import string\n",
    "import time\n",
    "import re\n",
    "import json"
   ]
  },
  {
   "cell_type": "code",
   "execution_count": 199,
   "metadata": {},
   "outputs": [],
   "source": [
    "user_cred = {\n",
    "    'username': 'jill@cornell.edu',\n",
    "    'password': 'password'\n",
    "}"
   ]
  },
  {
   "cell_type": "code",
   "execution_count": 200,
   "metadata": {},
   "outputs": [],
   "source": [
    "r = requests.post('http://localhost:8080/auth/signup', json=user_cred)"
   ]
  },
  {
   "cell_type": "code",
   "execution_count": 201,
   "metadata": {},
   "outputs": [],
   "source": [
    "r = requests.post('http://localhost:8080/auth/login', json=user_cred)\n",
    "token = r.json()['token']\n",
    "auth_headers = {'authorization': 'bearer {}'.format(token)}"
   ]
  },
  {
   "cell_type": "markdown",
   "metadata": {},
   "source": [
    "### get post"
   ]
  },
  {
   "cell_type": "code",
   "execution_count": null,
   "metadata": {},
   "outputs": [],
   "source": [
    "r = requests.get('http://localhost:8080/post/27', headers=auth_headers)\n",
    "if not r.status_code in range(200,300): print(r.text)\n",
    "\n",
    "(title)\n",
    "\n",
    "payload = r.json()['post']\n",
    "body = payload['body']\n",
    "title = payload['title']\n",
    "explicit_tags = payload['explicit_tags']\n",
    "post_id = time.time()\n",
    "\n",
    "with \n",
    "\n",
    "for k in sorted(payload.keys()):\n",
    "    print(k)"
   ]
  },
  {
   "cell_type": "code",
   "execution_count": 85,
   "metadata": {},
   "outputs": [
    {
     "data": {
      "text/plain": [
       "['flask', 'celery', 'python']"
      ]
     },
     "execution_count": 85,
     "metadata": {},
     "output_type": "execute_result"
    }
   ],
   "source": [
    "payload['explicit_tags']"
   ]
  },
  {
   "cell_type": "code",
   "execution_count": 80,
   "metadata": {},
   "outputs": [
    {
     "data": {
      "text/plain": [
       "['flask', 'celery', 'python']"
      ]
     },
     "execution_count": 80,
     "metadata": {},
     "output_type": "execute_result"
    }
   ],
   "source": [
    "explicit_tags"
   ]
  },
  {
   "cell_type": "markdown",
   "metadata": {},
   "source": [
    "### find post"
   ]
  },
  {
   "cell_type": "code",
   "execution_count": 99,
   "metadata": {},
   "outputs": [],
   "source": [
    "query = {\n",
    "    'keywords': 'factory',\n",
    "    'collaborators': [],\n",
    "}"
   ]
  },
  {
   "cell_type": "code",
   "execution_count": 100,
   "metadata": {},
   "outputs": [],
   "source": [
    "r = requests.post('http://localhost:8080/search/post/', json=query, headers=auth_headers)\n",
    "if not r.status_code in range(200,300): print(r.text)"
   ]
  },
  {
   "cell_type": "code",
   "execution_count": 101,
   "metadata": {},
   "outputs": [],
   "source": [
    "output = r.json()"
   ]
  },
  {
   "cell_type": "code",
   "execution_count": 102,
   "metadata": {},
   "outputs": [
    {
     "data": {
      "text/plain": [
       "{'experts': [{'display_name': 'jill@cornell.edu',\n",
       "   'picture': None,\n",
       "   'post_count': 1,\n",
       "   'user_id': 21,\n",
       "   'username': 'jill@cornell.edu'}],\n",
       " 'posts': [{'explicit_tags': ['celery', 'flask', 'python'],\n",
       "   'modified_date': '2018-05-03T23:58:08',\n",
       "   'post_id': 27,\n",
       "   'title': 'Celery in a Flask Application Factory',\n",
       "   'upvotes': 0}],\n",
       " 'tags': [{'post_count': 1, 'tag': 'python'},\n",
       "  {'post_count': 1, 'tag': 'flask'},\n",
       "  {'post_count': 1, 'tag': 'celery'}]}"
      ]
     },
     "execution_count": 102,
     "metadata": {},
     "output_type": "execute_result"
    }
   ],
   "source": [
    "output"
   ]
  },
  {
   "cell_type": "code",
   "execution_count": null,
   "metadata": {},
   "outputs": [],
   "source": [
    "output.sort(key=lambda x: (x['']))"
   ]
  },
  {
   "cell_type": "code",
   "execution_count": 15,
   "metadata": {},
   "outputs": [
    {
     "data": {
      "text/plain": [
       "dict_keys(['experts', 'posts', 'tags'])"
      ]
     },
     "execution_count": 15,
     "metadata": {},
     "output_type": "execute_result"
    }
   ],
   "source": [
    "r.json().keys()"
   ]
  },
  {
   "cell_type": "code",
   "execution_count": 5,
   "metadata": {
    "collapsed": true
   },
   "outputs": [
    {
     "name": "stdout",
     "output_type": "stream",
     "text": [
      "{'explicit_tags': ['aws', 'healthtech', 'hippa'], 'modified_date': '2018-05-02T23:49:08', 'post_id': 22, 'title': 'black magic', 'upvotes': 2}\n",
      "{'explicit_tags': ['aws', 'healthtech', 'hippa'], 'modified_date': '2018-05-02T23:49:08', 'post_id': 23, 'title': 'black magic', 'upvotes': 2}\n",
      "{'explicit_tags': ['aws', 'healthtech', 'hippa'], 'modified_date': '2018-05-02T23:49:08', 'post_id': 21, 'title': 'black magic', 'upvotes': 1}\n",
      "{'explicit_tags': ['aws', 'healthtech', 'hippa'], 'modified_date': '2018-05-02T23:49:08', 'post_id': 24, 'title': 'black magic 2', 'upvotes': 1}\n",
      "{'explicit_tags': ['deploying'], 'modified_date': '2018-05-02T23:28:30', 'post_id': 11, 'title': 'Post 0', 'upvotes': 0}\n",
      "{'explicit_tags': ['deploying'], 'modified_date': '2018-05-02T23:28:30', 'post_id': 12, 'title': 'Post 1', 'upvotes': 0}\n",
      "{'explicit_tags': ['deploying'], 'modified_date': '2018-05-02T23:28:30', 'post_id': 13, 'title': 'Post 2', 'upvotes': 0}\n",
      "{'explicit_tags': ['deploying'], 'modified_date': '2018-05-02T23:28:30', 'post_id': 14, 'title': 'Post 3', 'upvotes': 0}\n",
      "{'explicit_tags': ['deploying'], 'modified_date': '2018-05-02T23:28:30', 'post_id': 15, 'title': 'Post 4', 'upvotes': 0}\n",
      "{'explicit_tags': ['deploying'], 'modified_date': '2018-05-02T23:28:30', 'post_id': 16, 'title': 'Post 5', 'upvotes': 0}\n",
      "{'explicit_tags': ['deploying'], 'modified_date': '2018-05-02T23:28:30', 'post_id': 17, 'title': 'Post 6', 'upvotes': 0}\n",
      "{'explicit_tags': ['deploying'], 'modified_date': '2018-05-02T23:28:30', 'post_id': 18, 'title': 'Post 7', 'upvotes': 0}\n",
      "{'explicit_tags': ['deploying'], 'modified_date': '2018-05-02T23:28:30', 'post_id': 19, 'title': 'Post 8', 'upvotes': 0}\n",
      "{'explicit_tags': ['deploying'], 'modified_date': '2018-05-02T23:28:30', 'post_id': 20, 'title': 'Post 9', 'upvotes': 0}\n",
      "{'explicit_tags': ['apps', 'docker', 'healthtech'], 'modified_date': '2018-05-02T22:14:04', 'post_id': 3, 'title': 'Jacksonite endotheliolytic oilstone shameface equidominant primitively relativization Len enigma diaskeuasis', 'upvotes': 0}\n"
     ]
    }
   ],
   "source": [
    "for p in r.json()['posts']:\n",
    "    print(p)"
   ]
  },
  {
   "cell_type": "markdown",
   "metadata": {},
   "source": [
    "### create post"
   ]
  },
  {
   "cell_type": "code",
   "execution_count": 240,
   "metadata": {},
   "outputs": [],
   "source": [
    "with open('./sample-data/celery_in_a_flask_application_factory.json','r') as f:\n",
    "    data = f.read()\n",
    "data = json.loads(data)"
   ]
  },
  {
   "cell_type": "code",
   "execution_count": 226,
   "metadata": {},
   "outputs": [],
   "source": [
    "tag_names = ['apps',\n",
    " 'aws',\n",
    " 'containers',\n",
    " 'docker',\n",
    " 'healthtech',\n",
    " 'hippa',\n",
    " 'jill',\n",
    " 'tutorial']"
   ]
  },
  {
   "cell_type": "code",
   "execution_count": 227,
   "metadata": {},
   "outputs": [],
   "source": [
    "import random"
   ]
  },
  {
   "cell_type": "code",
   "execution_count": 232,
   "metadata": {},
   "outputs": [
    {
     "data": {
      "text/plain": [
       "dict_keys(['body', 'title', 'explicit_tags'])"
      ]
     },
     "execution_count": 232,
     "metadata": {},
     "output_type": "execute_result"
    }
   ],
   "source": [
    "body.keys()"
   ]
  },
  {
   "cell_type": "code",
   "execution_count": 241,
   "metadata": {},
   "outputs": [],
   "source": [
    "post = {\n",
    "    'title': data['title'],\n",
    "    'body': data['body'],\n",
    "    'explicit_tags': data['explicit_tags'],\n",
    "    'collaborators': []\n",
    "}\n",
    "    \n",
    "r = requests.post('http://localhost:8080/post/', json=post, headers = auth_headers)\n",
    "assert r.status_code in range(200,300), 'bad status'"
   ]
  },
  {
   "cell_type": "code",
   "execution_count": 242,
   "metadata": {
    "scrolled": true
   },
   "outputs": [
    {
     "name": "stdout",
     "output_type": "stream",
     "text": [
      "post 8\n"
     ]
    }
   ],
   "source": [
    "post_id=r.json()['post']['post_id']\n",
    "print('post {}'.format(post_id))"
   ]
  },
  {
   "cell_type": "code",
   "execution_count": 243,
   "metadata": {},
   "outputs": [],
   "source": [
    "r = requests.get('http://localhost:8080/post/{}'.format(post_id), headers=auth_headers)\n",
    "assert r.status_code in range(200,300), 'bad status'"
   ]
  },
  {
   "cell_type": "code",
   "execution_count": 244,
   "metadata": {},
   "outputs": [
    {
     "data": {
      "text/plain": [
       "True"
      ]
     },
     "execution_count": 244,
     "metadata": {},
     "output_type": "execute_result"
    }
   ],
   "source": [
    "r.json()['post']['body'] == data['body']"
   ]
  },
  {
   "cell_type": "code",
   "execution_count": 122,
   "metadata": {},
   "outputs": [],
   "source": [
    "r = requests.post('http://localhost:8080/post/23/upvote/', headers=auth_headers)"
   ]
  },
  {
   "cell_type": "code",
   "execution_count": 69,
   "metadata": {
    "collapsed": true
   },
   "outputs": [],
   "source": [
    "args = {'implicit': True}"
   ]
  },
  {
   "cell_type": "code",
   "execution_count": 70,
   "metadata": {
    "collapsed": true
   },
   "outputs": [],
   "source": [
    "r = requests.get(\n",
    "    'http://localhost:8080/tag/', headers=auth_headers, \n",
    "    params=args\n",
    ").json()"
   ]
  }
 ],
 "metadata": {
  "kernelspec": {
   "display_name": "Python 3",
   "language": "python",
   "name": "python3"
  },
  "language_info": {
   "codemirror_mode": {
    "name": "ipython",
    "version": 3
   },
   "file_extension": ".py",
   "mimetype": "text/x-python",
   "name": "python",
   "nbconvert_exporter": "python",
   "pygments_lexer": "ipython3",
   "version": "3.6.5"
  }
 },
 "nbformat": 4,
 "nbformat_minor": 2
}
