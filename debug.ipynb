{
 "cells": [
  {
   "cell_type": "code",
   "execution_count": 7,
   "metadata": {
    "collapsed": true
   },
   "outputs": [],
   "source": [
    "import requests\n",
    "import random\n",
    "import string"
   ]
  },
  {
   "cell_type": "code",
   "execution_count": 62,
   "metadata": {
    "collapsed": true
   },
   "outputs": [],
   "source": [
    "user_cred_1 = {'username': 'user_1@cornell.edu', 'password': 'password'}\n",
    "user_cred_2 = {'username': 'user_2@cornell.edu', 'password': 'password'}\n",
    "user_creds = [user_cred_1, user_cred_2]"
   ]
  },
  {
   "cell_type": "markdown",
   "metadata": {},
   "source": [
    "### signup"
   ]
  },
  {
   "cell_type": "code",
   "execution_count": 63,
   "metadata": {},
   "outputs": [
    {
     "name": "stdout",
     "output_type": "stream",
     "text": [
      "200 <- user_1@cornell.edu\n",
      "200 <- user_2@cornell.edu\n"
     ]
    }
   ],
   "source": [
    "for user_cred in user_creds:\n",
    "    # get token\n",
    "    r = requests.post('http://localhost:8080/auth/signup', json=user_cred)\n",
    "    print(r.status_code,'<-',user_cred['username'])"
   ]
  },
  {
   "cell_type": "markdown",
   "metadata": {},
   "source": [
    "### auth"
   ]
  },
  {
   "cell_type": "code",
   "execution_count": 64,
   "metadata": {
    "collapsed": true
   },
   "outputs": [],
   "source": [
    "user_cred = user_creds[0]"
   ]
  },
  {
   "cell_type": "code",
   "execution_count": 65,
   "metadata": {},
   "outputs": [
    {
     "name": "stdout",
     "output_type": "stream",
     "text": [
      "status: 201\n"
     ]
    }
   ],
   "source": [
    "# get token\n",
    "r = requests.post(\n",
    "    'http://localhost:8080/auth/login', \n",
    "    json=user_cred\n",
    ")\n",
    "\n",
    "auth_token = r.json()['token']\n",
    "auth_headers = {'authorization': 'Bearer {}'.format(auth_token)}\n",
    "\n",
    "print('status:', r.status_code)"
   ]
  },
  {
   "cell_type": "markdown",
   "metadata": {},
   "source": [
    "### create post"
   ]
  },
  {
   "cell_type": "code",
   "execution_count": 66,
   "metadata": {
    "collapsed": true
   },
   "outputs": [],
   "source": [
    "tag_names = ['apps',\n",
    " 'aws',\n",
    " 'containers',\n",
    " 'docker',\n",
    " 'healthtech',\n",
    " 'hippa',\n",
    " 'jill',\n",
    " 'tutorial']"
   ]
  },
  {
   "cell_type": "code",
   "execution_count": 67,
   "metadata": {
    "collapsed": true
   },
   "outputs": [],
   "source": [
    "import random"
   ]
  },
  {
   "cell_type": "code",
   "execution_count": 68,
   "metadata": {
    "collapsed": true
   },
   "outputs": [],
   "source": [
    "for i in range(10):\n",
    "    post = {\n",
    "        'title': \"Post {}\".format(i),\n",
    "        'body': ''.join(random.choices(string.ascii_letters + string.digits, k=10000)) ,\n",
    "        'explicit_tags': [],\n",
    "        'collaborators': [1,2]\n",
    "    }\n",
    "    explicit_tags = set()\n",
    "    while len(explicit_tags) < 3:\n",
    "        explicit_tags.add(random.choice(tag_names))\n",
    "    post['explicit_tags'] = list(explicit_tags)\n",
    "    \n",
    "    r = requests.post('http://localhost:8080/post/', json=post, headers = auth_headers)\n",
    "    assert r.status_code in range(200,300), 'bad status'"
   ]
  },
  {
   "cell_type": "code",
   "execution_count": 69,
   "metadata": {
    "collapsed": true
   },
   "outputs": [],
   "source": [
    "args = {'implicit': True}"
   ]
  },
  {
   "cell_type": "code",
   "execution_count": 70,
   "metadata": {
    "collapsed": true
   },
   "outputs": [],
   "source": [
    "r = requests.get(\n",
    "    'http://localhost:8080/tag/', headers=auth_headers, \n",
    "    params=args\n",
    ").json()"
   ]
  }
 ],
 "metadata": {
  "kernelspec": {
   "display_name": "Python 3",
   "language": "python",
   "name": "python3"
  }
 },
 "nbformat": 4,
 "nbformat_minor": 2
}
