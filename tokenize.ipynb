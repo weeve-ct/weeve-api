{
 "cells": [
  {
   "cell_type": "code",
   "execution_count": 125,
   "metadata": {},
   "outputs": [],
   "source": [
    "from server.controller.tokenizer import clean_whitespace\n",
    "import nltk\n",
    "import string"
   ]
  },
  {
   "cell_type": "code",
   "execution_count": 66,
   "metadata": {},
   "outputs": [],
   "source": [
    "custom_stopwords = set()\n",
    "for word in nltk.corpus.stopwords.words('english'):\n",
    "    custom_stopwords.add(word)\n",
    "    if \"'\" in word:\n",
    "        custom_stopwords.add(word.replace(\"'\",\"\"))\n",
    "        \n",
    "custom_stopwords.add(\"'s\")"
   ]
  },
  {
   "cell_type": "code",
   "execution_count": 149,
   "metadata": {},
   "outputs": [],
   "source": [
    "lemmatizer = nltk.stem.WordNetLemmatizer()"
   ]
  },
  {
   "cell_type": "code",
   "execution_count": 199,
   "metadata": {},
   "outputs": [],
   "source": [
    "def get_tokens(val, stopwords):\n",
    "    # identify POS\n",
    "    output = []\n",
    "    tokens = clean_whitespace(val)\n",
    "    tokens = nltk.tokenize.word_tokenize(tokens)\n",
    "\n",
    "    for ix, (word, pos) in enumerate(nltk.pos_tag(tokens)):\n",
    "        tmp = {'index': ix, 'original': word, 'pos': pos, 'output': word}\n",
    "\n",
    "        if word.lower() in custom_stopwords:\n",
    "            tmp['ignore'] = True\n",
    "\n",
    "        elif word in string.punctuation:\n",
    "            tmp['ignore'] = True\n",
    "\n",
    "        # stem verbs\n",
    "        if pos.startswith('VB'):\n",
    "            tmp['output'] = lemmatizer.lemmatize(word.lower(), pos='v')\n",
    "            \n",
    "        # add to output\n",
    "        output.append(tmp)\n",
    "        \n",
    "    return output"
   ]
  },
  {
   "cell_type": "code",
   "execution_count": 204,
   "metadata": {
    "collapsed": true
   },
   "outputs": [],
   "source": [
    "# title = 'let\\'s show them a tutorial   on Nikki\\'s eye spikes?????'\n",
    "title = \"Running a microservice, app in Azure, Zen's guide?!?\"\n",
    "# title = 'How i got the runs'"
   ]
  },
  {
   "cell_type": "code",
   "execution_count": 205,
   "metadata": {},
   "outputs": [],
   "source": [
    "tokens = get_tokens(title, custom_stopwords)"
   ]
  },
  {
   "cell_type": "code",
   "execution_count": 206,
   "metadata": {},
   "outputs": [
    {
     "name": "stdout",
     "output_type": "stream",
     "text": [
      "0\tFalse\tRunning\trun\tVBG\n",
      "1\tTrue\ta\ta\tDT\n",
      "2\tFalse\tmicroservice\tmicroservice\tNN\n",
      "3\tTrue\t,\t,\t,\n",
      "4\tFalse\tapp\tapp\tNN\n",
      "5\tTrue\tin\tin\tIN\n",
      "6\tFalse\tAzure\tAzure\tNNP\n",
      "7\tTrue\t,\t,\t,\n",
      "8\tFalse\tZen\tZen\tNNP\n",
      "9\tTrue\t's\t's\tPOS\n",
      "10\tFalse\tguide\tguide\tNN\n",
      "11\tTrue\t?\t?\t.\n",
      "12\tTrue\t!\t!\t.\n",
      "13\tTrue\t?\t?\t.\n"
     ]
    }
   ],
   "source": [
    "for t in tokens:\n",
    "    print('{}\\t{}\\t{}\\t{}\\t{}'.format(t['index'],t.get('ignore', False), t['original'], t['output'], t['pos']))"
   ]
  },
  {
   "cell_type": "code",
   "execution_count": 207,
   "metadata": {},
   "outputs": [
    {
     "name": "stdout",
     "output_type": "stream",
     "text": [
      "run microservice app Azure Zen guide\n"
     ]
    }
   ],
   "source": [
    "print(' '.join(t['output'] for t in tokens if not t.get('ignore')))"
   ]
  }
 ],
 "metadata": {
  "kernelspec": {
   "display_name": "Python 3",
   "language": "python",
   "name": "python3"
  },
  "language_info": {
   "codemirror_mode": {
    "name": "ipython",
    "version": 3
   },
   "file_extension": ".py",
   "mimetype": "text/x-python",
   "name": "python",
   "nbconvert_exporter": "python",
   "pygments_lexer": "ipython3",
   "version": "3.6.3"
  }
 },
 "nbformat": 4,
 "nbformat_minor": 2
}
