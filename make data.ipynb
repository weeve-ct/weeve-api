{
 "cells": [
  {
   "cell_type": "code",
   "execution_count": 1,
   "metadata": {
    "collapsed": true
   },
   "outputs": [],
   "source": [
    "import requests\n",
    "import random\n",
    "import string\n",
    "import time"
   ]
  },
  {
   "cell_type": "code",
   "execution_count": 191,
   "metadata": {
    "collapsed": true
   },
   "outputs": [],
   "source": [
    "def k_unique(vals, k=3):\n",
    "    output = set()\n",
    "    while len(output) < k:\n",
    "        output.add(random.choice(vals))\n",
    "    return list(output)"
   ]
  },
  {
   "cell_type": "markdown",
   "metadata": {},
   "source": [
    "### make creds"
   ]
  },
  {
   "cell_type": "code",
   "execution_count": 46,
   "metadata": {
    "collapsed": true
   },
   "outputs": [],
   "source": [
    "user_creds = []\n",
    "batch_id = int(time.time())\n",
    "for i in range(1, 21):\n",
    "    name = 'user {}.{}'.format(batch_id, str(i).zfill(2))\n",
    "    user_creds.append({\n",
    "        'display_name': name, \n",
    "        'username': '{}@email.com'.format(name.replace(' ','.')),\n",
    "        'password': 'password'\n",
    "    })"
   ]
  },
  {
   "cell_type": "markdown",
   "metadata": {},
   "source": [
    "### signup"
   ]
  },
  {
   "cell_type": "code",
   "execution_count": 47,
   "metadata": {},
   "outputs": [
    {
     "name": "stdout",
     "output_type": "stream",
     "text": [
      "success\n"
     ]
    }
   ],
   "source": [
    "for user_cred in user_creds:\n",
    "    # get token\n",
    "    r = requests.post('http://localhost:8080/auth/signup', json=user_cred)\n",
    "    assert r.status_code in range(200,300), 'failed {}'.format(user_cred['username'])\n",
    "    \n",
    "print('success')"
   ]
  },
  {
   "cell_type": "markdown",
   "metadata": {},
   "source": [
    "### auth"
   ]
  },
  {
   "cell_type": "code",
   "execution_count": 48,
   "metadata": {},
   "outputs": [
    {
     "name": "stdout",
     "output_type": "stream",
     "text": [
      "success\n"
     ]
    }
   ],
   "source": [
    "user_tokens = {}\n",
    "\n",
    "for user_cred in user_creds:\n",
    "    r = requests.post('http://localhost:8080/auth/login', json=user_cred)\n",
    "    assert r.status_code in range(200,300), 'failed {}'.format(user_cred['username'])\n",
    "    username = user_cred['username'].lower()\n",
    "    user_tokens[username] = r.json()['token']\n",
    "    \n",
    "print('success')"
   ]
  },
  {
   "cell_type": "code",
   "execution_count": 199,
   "metadata": {},
   "outputs": [],
   "source": [
    "random_token = random.choice(list(user_tokens.values()))\n",
    "auth_header = {'authorization': 'bearer {}'.format(random_token)}\n",
    "r = requests.get('http://localhost:8080/user/', headers=auth_header)\n",
    "user_data = {u['user_id']: u for u in r.json()['users']}"
   ]
  },
  {
   "cell_type": "markdown",
   "metadata": {},
   "source": [
    "### create posts"
   ]
  },
  {
   "cell_type": "code",
   "execution_count": 192,
   "metadata": {
    "collapsed": true
   },
   "outputs": [],
   "source": [
    "tag_names = [\n",
    "    'apps',\n",
    "    'aws',\n",
    "    'containers',\n",
    "    'docker',\n",
    "    'healthtech',\n",
    "    'hippa',\n",
    "    'jill',\n",
    "    'tutorial'\n",
    "]"
   ]
  },
  {
   "cell_type": "code",
   "execution_count": 141,
   "metadata": {},
   "outputs": [],
   "source": [
    "with open('/usr/share/dict/words', 'r') as f:\n",
    "    words_list = f.read().strip().splitlines()"
   ]
  },
  {
   "cell_type": "code",
   "execution_count": 189,
   "metadata": {
    "collapsed": true
   },
   "outputs": [],
   "source": [
    "title = ' '.join(random.choices(words_list, k=random.randint(3,10)))\n",
    "body = ''\n",
    "for _ in range(random.randint(2,30)):\n",
    "    sentence = ' '.join(random.choices(words_list, k=random.randint(3,10))).title() + '. '\n",
    "    body += sentence\n",
    "body = body.strip()"
   ]
  },
  {
   "cell_type": "code",
   "execution_count": 208,
   "metadata": {
    "collapsed": true
   },
   "outputs": [],
   "source": [
    "explicit_tags = k_unique(tag_names, k=3)"
   ]
  },
  {
   "cell_type": "code",
   "execution_count": 68,
   "metadata": {
    "collapsed": true
   },
   "outputs": [],
   "source": [
    "for i in range(10):\n",
    "    post = {\n",
    "        'title': \"Post {}\".format(i),\n",
    "        'body': ''.join(random.choices(string.ascii_letters + string.digits, k=10000)) ,\n",
    "        'explicit_tags': k_unique(tag_names, k=3),\n",
    "        'collaborators': k_unique()\n",
    "    }\n",
    "    explicit_tags = set()\n",
    "    while len(explicit_tags) < 3:\n",
    "        explicit_tags.add(random.choice(tag_names))\n",
    "    post['explicit_tags'] = list(explicit_tags)\n",
    "    \n",
    "    r = requests.post('http://localhost:8080/post/', json=post, headers = auth_headers)\n",
    "    assert r.status_code in range(200,300), 'bad status'"
   ]
  },
  {
   "cell_type": "code",
   "execution_count": 69,
   "metadata": {
    "collapsed": true
   },
   "outputs": [],
   "source": [
    "args = {'implicit': True}"
   ]
  },
  {
   "cell_type": "code",
   "execution_count": 70,
   "metadata": {
    "collapsed": true
   },
   "outputs": [],
   "source": [
    "r = requests.get(\n",
    "    'http://localhost:8080/tag/', headers=auth_headers, \n",
    "    params=args\n",
    ").json()"
   ]
  }
 ],
 "metadata": {
  "kernelspec": {
   "display_name": "Python 3",
   "language": "python",
   "name": "python3"
  },
  "language_info": {
   "codemirror_mode": {
    "name": "ipython",
    "version": 3
   },
   "file_extension": ".py",
   "mimetype": "text/x-python",
   "name": "python",
   "nbconvert_exporter": "python",
   "pygments_lexer": "ipython3",
   "version": "3.6.3"
  }
 },
 "nbformat": 4,
 "nbformat_minor": 2
}
