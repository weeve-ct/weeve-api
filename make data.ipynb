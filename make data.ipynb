{
 "cells": [
  {
   "cell_type": "code",
   "execution_count": 74,
   "metadata": {},
   "outputs": [],
   "source": [
    "import requests\n",
    "import random\n",
    "import string\n",
    "import time\n",
    "import json"
   ]
  },
  {
   "cell_type": "markdown",
   "metadata": {},
   "source": [
    "### helpers"
   ]
  },
  {
   "cell_type": "code",
   "execution_count": 28,
   "metadata": {},
   "outputs": [],
   "source": [
    "def k_unique(vals, k=3):\n",
    "    output = set()\n",
    "    while len(output) < k:\n",
    "        output.add(random.choice(vals))\n",
    "    return list(output)"
   ]
  },
  {
   "cell_type": "code",
   "execution_count": 34,
   "metadata": {},
   "outputs": [],
   "source": [
    "with open('/usr/share/dict/words', 'r') as f:\n",
    "    words_list = f.read().strip().splitlines()"
   ]
  },
  {
   "cell_type": "markdown",
   "metadata": {},
   "source": [
    "### signup"
   ]
  },
  {
   "cell_type": "code",
   "execution_count": 29,
   "metadata": {},
   "outputs": [],
   "source": [
    "user_passwords = {}\n",
    "batch_id = int(time.time())\n",
    "for i in range(1, 21):\n",
    "    name = 'user {}.{}'.format(batch_id, str(i).zfill(2))\n",
    "    username = '{}@email.com'.format(name.replace(' ','.'))\n",
    "    password = 'password'\n",
    "    user_cred = {\n",
    "        'display_name': name, \n",
    "        'username': username,\n",
    "        'password': password\n",
    "    }\n",
    "    \n",
    "    r = requests.post('http://localhost:8080/auth/signup', json=user_cred)\n",
    "    assert r.status_code in range(200,300), 'failed {}'.format(user_cred['username'])\n",
    "    user_passwords[username] = password"
   ]
  },
  {
   "cell_type": "markdown",
   "metadata": {},
   "source": [
    "### auth"
   ]
  },
  {
   "cell_type": "code",
   "execution_count": 30,
   "metadata": {},
   "outputs": [
    {
     "name": "stdout",
     "output_type": "stream",
     "text": [
      "success\n"
     ]
    }
   ],
   "source": [
    "user_tokens = {}\n",
    "\n",
    "for username, password in user_passwords.items():\n",
    "    user_cred = {'username': username, 'password': password}\n",
    "    r = requests.post('http://localhost:8080/auth/login', json=user_cred)\n",
    "    assert r.status_code in range(200,300), 'failed {}'.format(username)\n",
    "    username = user_cred['username'].lower()\n",
    "    user_tokens[username] = r.json()['token']\n",
    "    \n",
    "print('success')"
   ]
  },
  {
   "cell_type": "markdown",
   "metadata": {},
   "source": [
    "### get users"
   ]
  },
  {
   "cell_type": "code",
   "execution_count": 31,
   "metadata": {},
   "outputs": [],
   "source": [
    "def make_auth_headers(token):\n",
    "    return {'authorization': 'bearer {}'.format(token)}"
   ]
  },
  {
   "cell_type": "code",
   "execution_count": 80,
   "metadata": {},
   "outputs": [],
   "source": [
    "auth_headers = make_auth_headers(random.choice(list(user_tokens.values())))\n",
    "r = requests.get('http://localhost:8080/user/',headers=auth_headers)\n",
    "user_data = {u['username']: u for u in r.json()['users']}\n",
    "user_data = {k: v for k,v in user_data.items() if k in user_tokens}"
   ]
  },
  {
   "cell_type": "markdown",
   "metadata": {},
   "source": [
    "### create posts"
   ]
  },
  {
   "cell_type": "code",
   "execution_count": 33,
   "metadata": {},
   "outputs": [],
   "source": [
    "tag_names = [\n",
    "    'apps',\n",
    "    'aws',\n",
    "    'containers',\n",
    "    'docker',\n",
    "    'healthtech',\n",
    "    'hippa',\n",
    "    'jill',\n",
    "    'tutorial'\n",
    "]"
   ]
  },
  {
   "cell_type": "code",
   "execution_count": 79,
   "metadata": {},
   "outputs": [],
   "source": [
    "for i in range(10):\n",
    "    current_users = [username for username in k_unique(list(user_data.keys()), random.randint(1,7))]\n",
    "    author_username = current_users[0]\n",
    "    auth_headers = make_auth_headers(user_tokens[author_username])\n",
    "    collaborators = [user_data[username]['user_id'] for username in current_users]\n",
    "    \n",
    "    title = ' '.join(random.choices(words_list, k=random.randint(3,10)))\n",
    "    body = {}\n",
    "    for i in range(random.randint(2,30)):\n",
    "        body[str(i)] = ' '.join(random.choices(words_list, k=random.randint(3,10))).title() + '. '\n",
    "    body = json.dumps(body)\n",
    "    \n",
    "    explicit_tags = k_unique(tag_names, k=3)\n",
    "    \n",
    "    post = {\n",
    "        'title': title,\n",
    "        'body': body,\n",
    "        'explicit_tags': explicit_tags,\n",
    "        'collaborators': collaborators\n",
    "    }\n",
    "    \n",
    "    r = requests.post('http://localhost:8080/post/', json=post, headers = auth_headers)\n",
    "    assert r.status_code in range(200,300), 'bad status'"
   ]
  }
 ],
 "metadata": {
  "kernelspec": {
   "display_name": "Python 3",
   "language": "python",
   "name": "python3"
  },
  "language_info": {
   "codemirror_mode": {
    "name": "ipython",
    "version": 3
   },
   "file_extension": ".py",
   "mimetype": "text/x-python",
   "name": "python",
   "nbconvert_exporter": "python",
   "pygments_lexer": "ipython3",
   "version": "3.6.5"
  }
 },
 "nbformat": 4,
 "nbformat_minor": 2
}
